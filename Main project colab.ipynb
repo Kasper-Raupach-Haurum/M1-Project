{
  "nbformat": 4,
  "nbformat_minor": 0,
  "metadata": {
    "colab": {
      "provenance": [],
      "authorship_tag": "ABX9TyNq/SuyXA6HQ6ZqJPHIM0C7",
      "include_colab_link": true
    },
    "kernelspec": {
      "name": "python3",
      "display_name": "Python 3"
    },
    "language_info": {
      "name": "python"
    }
  },
  "cells": [
    {
      "cell_type": "markdown",
      "metadata": {
        "id": "view-in-github",
        "colab_type": "text"
      },
      "source": [
        "<a href=\"https://colab.research.google.com/github/Kasper-Raupach-Haurum/M1-Project/blob/main/Main%20project%20colab.ipynb\" target=\"_parent\"><img src=\"https://colab.research.google.com/assets/colab-badge.svg\" alt=\"Open In Colab\"/></a>"
      ]
    },
    {
      "cell_type": "code",
      "execution_count": null,
      "metadata": {
        "id": "9yyGzrSW2WPx"
      },
      "outputs": [],
      "source": [
        "#The standard imports\n",
        "import pandas as pd\n",
        "import numpy as np\n",
        "import matplotlib.pyplot as plt\n",
        "import seaborn as sns\n",
        "\n",
        "#The imports for EDA\n",
        "from sklearn.preprocessing import LabelEncoder\n",
        "from sklearn.preprocessing import StandardScaler\n",
        "\n",
        "#The imports for model selection\n",
        "from sklearn.model_selection import KFold\n",
        "from sklearn.model_selection import cross_val_score\n",
        "from sklearn.model_selection import GridSearchCV\n",
        "\n",
        "#The imports for model configuration\n",
        "from sklearn.linear_model import LogisticRegression\n",
        "from sklearn.ensemble import RandomForestClassifier\n",
        "from sklearn.svm import SVC\n",
        "from sklearn.tree import DecisionTreeClassifier\n",
        "\n",
        "#The imports for model evaluation\n",
        "from sklearn.metrics import confusion_matrix , accuracy_score ,classification_report\n",
        "\n",
        "#The imports for model significance estimator\n",
        "from sklearn.inspection import permutation_importance"
      ]
    },
    {
      "cell_type": "code",
      "source": [
        "HR = pd.read_csv('https://github.com/Kasper-Raupach-Haurum/M1-Project/raw/Kasper-Raupach-Haurum-patch-1/general_data.csv', low_memory=False, sep=',')\n",
        "HR1 = pd.read_excel('https://github.com/Kasper-Raupach-Haurum/M1-Project/blob/Kasper-Raupach-Haurum-patch-1/data_dictionary.xlsx?raw=true')\n",
        "HR2 = pd.read_csv('https://github.com/Kasper-Raupach-Haurum/M1-Project/raw/Kasper-Raupach-Haurum-patch-1/employee_survey_data.csv', low_memory=False, sep=',')\n",
        "HR3 = pd.read_csv('https://github.com/Kasper-Raupach-Haurum/M1-Project/raw/Kasper-Raupach-Haurum-patch-1/manager_survey_data.csv', low_memory=False, sep=',')\n",
        "\n",
        "#We are going to start this off by importing the libaries that will be used, and lastly, uploading the csv.file from my Github"
      ],
      "metadata": {
        "id": "z1WP_ouGSe_K"
      },
      "execution_count": null,
      "outputs": []
    },
    {
      "cell_type": "markdown",
      "source": [
        "## Loading up the datasets, and doing a quick showing"
      ],
      "metadata": {
        "id": "x7_4PHuaJLs_"
      }
    },
    {
      "cell_type": "markdown",
      "source": [
        "Incase it looks very confusing, this is a summary of the datasets currently in action after I started the work by importing them in the start:\n",
        "\n",
        "HR: General data sheet\n",
        "HR1: Data dictionary\n",
        "HR2: Employee survey data\n",
        "HR3: Manager survey data"
      ],
      "metadata": {
        "id": "xuPcJPdWLGAZ"
      }
    },
    {
      "cell_type": "code",
      "source": [
        "HR.head()\n",
        "#We will now conduct a .head command to make a overview of how the data looks like. It looks like data, (what???)"
      ],
      "metadata": {
        "colab": {
          "base_uri": "https://localhost:8080/",
          "height": 369
        },
        "id": "1SfcfpNpF1_Y",
        "outputId": "94b63187-9416-4383-8e93-ba5285bb1a45"
      },
      "execution_count": null,
      "outputs": [
        {
          "output_type": "execute_result",
          "data": {
            "text/plain": [
              "   Age Attrition     BusinessTravel              Department  DistanceFromHome  \\\n",
              "0   51        No      Travel_Rarely                   Sales                 6   \n",
              "1   31       Yes  Travel_Frequently  Research & Development                10   \n",
              "2   32        No  Travel_Frequently  Research & Development                17   \n",
              "3   38        No         Non-Travel  Research & Development                 2   \n",
              "4   32        No      Travel_Rarely  Research & Development                10   \n",
              "\n",
              "   Education EducationField  EmployeeCount  EmployeeID  Gender  ...  \\\n",
              "0          2  Life Sciences              1           1  Female  ...   \n",
              "1          1  Life Sciences              1           2  Female  ...   \n",
              "2          4          Other              1           3    Male  ...   \n",
              "3          5  Life Sciences              1           4    Male  ...   \n",
              "4          1        Medical              1           5    Male  ...   \n",
              "\n",
              "   NumCompaniesWorked Over18 PercentSalaryHike  StandardHours  \\\n",
              "0                 1.0      Y                11              8   \n",
              "1                 0.0      Y                23              8   \n",
              "2                 1.0      Y                15              8   \n",
              "3                 3.0      Y                11              8   \n",
              "4                 4.0      Y                12              8   \n",
              "\n",
              "   StockOptionLevel TotalWorkingYears  TrainingTimesLastYear  YearsAtCompany  \\\n",
              "0                 0               1.0                      6               1   \n",
              "1                 1               6.0                      3               5   \n",
              "2                 3               5.0                      2               5   \n",
              "3                 3              13.0                      5               8   \n",
              "4                 2               9.0                      2               6   \n",
              "\n",
              "   YearsSinceLastPromotion  YearsWithCurrManager  \n",
              "0                        0                     0  \n",
              "1                        1                     4  \n",
              "2                        0                     3  \n",
              "3                        7                     5  \n",
              "4                        0                     4  \n",
              "\n",
              "[5 rows x 24 columns]"
            ],
            "text/html": [
              "\n",
              "  <div id=\"df-9a590ed4-0b3f-496e-978b-dc4f63943aad\">\n",
              "    <div class=\"colab-df-container\">\n",
              "      <div>\n",
              "<style scoped>\n",
              "    .dataframe tbody tr th:only-of-type {\n",
              "        vertical-align: middle;\n",
              "    }\n",
              "\n",
              "    .dataframe tbody tr th {\n",
              "        vertical-align: top;\n",
              "    }\n",
              "\n",
              "    .dataframe thead th {\n",
              "        text-align: right;\n",
              "    }\n",
              "</style>\n",
              "<table border=\"1\" class=\"dataframe\">\n",
              "  <thead>\n",
              "    <tr style=\"text-align: right;\">\n",
              "      <th></th>\n",
              "      <th>Age</th>\n",
              "      <th>Attrition</th>\n",
              "      <th>BusinessTravel</th>\n",
              "      <th>Department</th>\n",
              "      <th>DistanceFromHome</th>\n",
              "      <th>Education</th>\n",
              "      <th>EducationField</th>\n",
              "      <th>EmployeeCount</th>\n",
              "      <th>EmployeeID</th>\n",
              "      <th>Gender</th>\n",
              "      <th>...</th>\n",
              "      <th>NumCompaniesWorked</th>\n",
              "      <th>Over18</th>\n",
              "      <th>PercentSalaryHike</th>\n",
              "      <th>StandardHours</th>\n",
              "      <th>StockOptionLevel</th>\n",
              "      <th>TotalWorkingYears</th>\n",
              "      <th>TrainingTimesLastYear</th>\n",
              "      <th>YearsAtCompany</th>\n",
              "      <th>YearsSinceLastPromotion</th>\n",
              "      <th>YearsWithCurrManager</th>\n",
              "    </tr>\n",
              "  </thead>\n",
              "  <tbody>\n",
              "    <tr>\n",
              "      <th>0</th>\n",
              "      <td>51</td>\n",
              "      <td>No</td>\n",
              "      <td>Travel_Rarely</td>\n",
              "      <td>Sales</td>\n",
              "      <td>6</td>\n",
              "      <td>2</td>\n",
              "      <td>Life Sciences</td>\n",
              "      <td>1</td>\n",
              "      <td>1</td>\n",
              "      <td>Female</td>\n",
              "      <td>...</td>\n",
              "      <td>1.0</td>\n",
              "      <td>Y</td>\n",
              "      <td>11</td>\n",
              "      <td>8</td>\n",
              "      <td>0</td>\n",
              "      <td>1.0</td>\n",
              "      <td>6</td>\n",
              "      <td>1</td>\n",
              "      <td>0</td>\n",
              "      <td>0</td>\n",
              "    </tr>\n",
              "    <tr>\n",
              "      <th>1</th>\n",
              "      <td>31</td>\n",
              "      <td>Yes</td>\n",
              "      <td>Travel_Frequently</td>\n",
              "      <td>Research &amp; Development</td>\n",
              "      <td>10</td>\n",
              "      <td>1</td>\n",
              "      <td>Life Sciences</td>\n",
              "      <td>1</td>\n",
              "      <td>2</td>\n",
              "      <td>Female</td>\n",
              "      <td>...</td>\n",
              "      <td>0.0</td>\n",
              "      <td>Y</td>\n",
              "      <td>23</td>\n",
              "      <td>8</td>\n",
              "      <td>1</td>\n",
              "      <td>6.0</td>\n",
              "      <td>3</td>\n",
              "      <td>5</td>\n",
              "      <td>1</td>\n",
              "      <td>4</td>\n",
              "    </tr>\n",
              "    <tr>\n",
              "      <th>2</th>\n",
              "      <td>32</td>\n",
              "      <td>No</td>\n",
              "      <td>Travel_Frequently</td>\n",
              "      <td>Research &amp; Development</td>\n",
              "      <td>17</td>\n",
              "      <td>4</td>\n",
              "      <td>Other</td>\n",
              "      <td>1</td>\n",
              "      <td>3</td>\n",
              "      <td>Male</td>\n",
              "      <td>...</td>\n",
              "      <td>1.0</td>\n",
              "      <td>Y</td>\n",
              "      <td>15</td>\n",
              "      <td>8</td>\n",
              "      <td>3</td>\n",
              "      <td>5.0</td>\n",
              "      <td>2</td>\n",
              "      <td>5</td>\n",
              "      <td>0</td>\n",
              "      <td>3</td>\n",
              "    </tr>\n",
              "    <tr>\n",
              "      <th>3</th>\n",
              "      <td>38</td>\n",
              "      <td>No</td>\n",
              "      <td>Non-Travel</td>\n",
              "      <td>Research &amp; Development</td>\n",
              "      <td>2</td>\n",
              "      <td>5</td>\n",
              "      <td>Life Sciences</td>\n",
              "      <td>1</td>\n",
              "      <td>4</td>\n",
              "      <td>Male</td>\n",
              "      <td>...</td>\n",
              "      <td>3.0</td>\n",
              "      <td>Y</td>\n",
              "      <td>11</td>\n",
              "      <td>8</td>\n",
              "      <td>3</td>\n",
              "      <td>13.0</td>\n",
              "      <td>5</td>\n",
              "      <td>8</td>\n",
              "      <td>7</td>\n",
              "      <td>5</td>\n",
              "    </tr>\n",
              "    <tr>\n",
              "      <th>4</th>\n",
              "      <td>32</td>\n",
              "      <td>No</td>\n",
              "      <td>Travel_Rarely</td>\n",
              "      <td>Research &amp; Development</td>\n",
              "      <td>10</td>\n",
              "      <td>1</td>\n",
              "      <td>Medical</td>\n",
              "      <td>1</td>\n",
              "      <td>5</td>\n",
              "      <td>Male</td>\n",
              "      <td>...</td>\n",
              "      <td>4.0</td>\n",
              "      <td>Y</td>\n",
              "      <td>12</td>\n",
              "      <td>8</td>\n",
              "      <td>2</td>\n",
              "      <td>9.0</td>\n",
              "      <td>2</td>\n",
              "      <td>6</td>\n",
              "      <td>0</td>\n",
              "      <td>4</td>\n",
              "    </tr>\n",
              "  </tbody>\n",
              "</table>\n",
              "<p>5 rows × 24 columns</p>\n",
              "</div>\n",
              "      <button class=\"colab-df-convert\" onclick=\"convertToInteractive('df-9a590ed4-0b3f-496e-978b-dc4f63943aad')\"\n",
              "              title=\"Convert this dataframe to an interactive table.\"\n",
              "              style=\"display:none;\">\n",
              "        \n",
              "  <svg xmlns=\"http://www.w3.org/2000/svg\" height=\"24px\"viewBox=\"0 0 24 24\"\n",
              "       width=\"24px\">\n",
              "    <path d=\"M0 0h24v24H0V0z\" fill=\"none\"/>\n",
              "    <path d=\"M18.56 5.44l.94 2.06.94-2.06 2.06-.94-2.06-.94-.94-2.06-.94 2.06-2.06.94zm-11 1L8.5 8.5l.94-2.06 2.06-.94-2.06-.94L8.5 2.5l-.94 2.06-2.06.94zm10 10l.94 2.06.94-2.06 2.06-.94-2.06-.94-.94-2.06-.94 2.06-2.06.94z\"/><path d=\"M17.41 7.96l-1.37-1.37c-.4-.4-.92-.59-1.43-.59-.52 0-1.04.2-1.43.59L10.3 9.45l-7.72 7.72c-.78.78-.78 2.05 0 2.83L4 21.41c.39.39.9.59 1.41.59.51 0 1.02-.2 1.41-.59l7.78-7.78 2.81-2.81c.8-.78.8-2.07 0-2.86zM5.41 20L4 18.59l7.72-7.72 1.47 1.35L5.41 20z\"/>\n",
              "  </svg>\n",
              "      </button>\n",
              "      \n",
              "  <style>\n",
              "    .colab-df-container {\n",
              "      display:flex;\n",
              "      flex-wrap:wrap;\n",
              "      gap: 12px;\n",
              "    }\n",
              "\n",
              "    .colab-df-convert {\n",
              "      background-color: #E8F0FE;\n",
              "      border: none;\n",
              "      border-radius: 50%;\n",
              "      cursor: pointer;\n",
              "      display: none;\n",
              "      fill: #1967D2;\n",
              "      height: 32px;\n",
              "      padding: 0 0 0 0;\n",
              "      width: 32px;\n",
              "    }\n",
              "\n",
              "    .colab-df-convert:hover {\n",
              "      background-color: #E2EBFA;\n",
              "      box-shadow: 0px 1px 2px rgba(60, 64, 67, 0.3), 0px 1px 3px 1px rgba(60, 64, 67, 0.15);\n",
              "      fill: #174EA6;\n",
              "    }\n",
              "\n",
              "    [theme=dark] .colab-df-convert {\n",
              "      background-color: #3B4455;\n",
              "      fill: #D2E3FC;\n",
              "    }\n",
              "\n",
              "    [theme=dark] .colab-df-convert:hover {\n",
              "      background-color: #434B5C;\n",
              "      box-shadow: 0px 1px 3px 1px rgba(0, 0, 0, 0.15);\n",
              "      filter: drop-shadow(0px 1px 2px rgba(0, 0, 0, 0.3));\n",
              "      fill: #FFFFFF;\n",
              "    }\n",
              "  </style>\n",
              "\n",
              "      <script>\n",
              "        const buttonEl =\n",
              "          document.querySelector('#df-9a590ed4-0b3f-496e-978b-dc4f63943aad button.colab-df-convert');\n",
              "        buttonEl.style.display =\n",
              "          google.colab.kernel.accessAllowed ? 'block' : 'none';\n",
              "\n",
              "        async function convertToInteractive(key) {\n",
              "          const element = document.querySelector('#df-9a590ed4-0b3f-496e-978b-dc4f63943aad');\n",
              "          const dataTable =\n",
              "            await google.colab.kernel.invokeFunction('convertToInteractive',\n",
              "                                                     [key], {});\n",
              "          if (!dataTable) return;\n",
              "\n",
              "          const docLinkHtml = 'Like what you see? Visit the ' +\n",
              "            '<a target=\"_blank\" href=https://colab.research.google.com/notebooks/data_table.ipynb>data table notebook</a>'\n",
              "            + ' to learn more about interactive tables.';\n",
              "          element.innerHTML = '';\n",
              "          dataTable['output_type'] = 'display_data';\n",
              "          await google.colab.output.renderOutput(dataTable, element);\n",
              "          const docLink = document.createElement('div');\n",
              "          docLink.innerHTML = docLinkHtml;\n",
              "          element.appendChild(docLink);\n",
              "        }\n",
              "      </script>\n",
              "    </div>\n",
              "  </div>\n",
              "  "
            ]
          },
          "metadata": {},
          "execution_count": 3
        }
      ]
    },
    {
      "cell_type": "code",
      "source": [
        "HR.info()\n",
        "#Next up there will be a .info command to gain additional information about the current data points in the sheet.\n",
        "#As seen, something funky is going on at NumCompaniesWorked, and TotalWorkingYears. Nothing too crazy, but there are some N/A"
      ],
      "metadata": {
        "colab": {
          "base_uri": "https://localhost:8080/"
        },
        "id": "IYUbRiArMW80",
        "outputId": "d3c73567-f923-4a9a-8846-56afc6bb75fc"
      },
      "execution_count": null,
      "outputs": [
        {
          "output_type": "stream",
          "name": "stdout",
          "text": [
            "<class 'pandas.core.frame.DataFrame'>\n",
            "RangeIndex: 4410 entries, 0 to 4409\n",
            "Data columns (total 24 columns):\n",
            " #   Column                   Non-Null Count  Dtype  \n",
            "---  ------                   --------------  -----  \n",
            " 0   Age                      4410 non-null   int64  \n",
            " 1   Attrition                4410 non-null   object \n",
            " 2   BusinessTravel           4410 non-null   object \n",
            " 3   Department               4410 non-null   object \n",
            " 4   DistanceFromHome         4410 non-null   int64  \n",
            " 5   Education                4410 non-null   int64  \n",
            " 6   EducationField           4410 non-null   object \n",
            " 7   EmployeeCount            4410 non-null   int64  \n",
            " 8   EmployeeID               4410 non-null   int64  \n",
            " 9   Gender                   4410 non-null   object \n",
            " 10  JobLevel                 4410 non-null   int64  \n",
            " 11  JobRole                  4410 non-null   object \n",
            " 12  MaritalStatus            4410 non-null   object \n",
            " 13  MonthlyIncome            4410 non-null   int64  \n",
            " 14  NumCompaniesWorked       4391 non-null   float64\n",
            " 15  Over18                   4410 non-null   object \n",
            " 16  PercentSalaryHike        4410 non-null   int64  \n",
            " 17  StandardHours            4410 non-null   int64  \n",
            " 18  StockOptionLevel         4410 non-null   int64  \n",
            " 19  TotalWorkingYears        4401 non-null   float64\n",
            " 20  TrainingTimesLastYear    4410 non-null   int64  \n",
            " 21  YearsAtCompany           4410 non-null   int64  \n",
            " 22  YearsSinceLastPromotion  4410 non-null   int64  \n",
            " 23  YearsWithCurrManager     4410 non-null   int64  \n",
            "dtypes: float64(2), int64(14), object(8)\n",
            "memory usage: 827.0+ KB\n"
          ]
        }
      ]
    },
    {
      "cell_type": "code",
      "source": [
        "HR1.head()"
      ],
      "metadata": {
        "colab": {
          "base_uri": "https://localhost:8080/",
          "height": 206
        },
        "outputId": "b6c124a3-2e28-4a09-bf14-e2d02e9d75ea",
        "id": "qnRMGuMzIEpp"
      },
      "execution_count": null,
      "outputs": [
        {
          "output_type": "execute_result",
          "data": {
            "text/plain": [
              "           Variable                                            Meaning Levels\n",
              "0               Age                                Age of the employee    NaN\n",
              "1         Attrition  Whether the employee left in the previous year...    NaN\n",
              "2    BusinessTravel  How frequently the employees travelled for bus...    NaN\n",
              "3        Department                              Department in company    NaN\n",
              "4  DistanceFromHome                          Distance from home in kms    NaN"
            ],
            "text/html": [
              "\n",
              "  <div id=\"df-4194a64e-ca2e-464c-92fd-c23177955400\">\n",
              "    <div class=\"colab-df-container\">\n",
              "      <div>\n",
              "<style scoped>\n",
              "    .dataframe tbody tr th:only-of-type {\n",
              "        vertical-align: middle;\n",
              "    }\n",
              "\n",
              "    .dataframe tbody tr th {\n",
              "        vertical-align: top;\n",
              "    }\n",
              "\n",
              "    .dataframe thead th {\n",
              "        text-align: right;\n",
              "    }\n",
              "</style>\n",
              "<table border=\"1\" class=\"dataframe\">\n",
              "  <thead>\n",
              "    <tr style=\"text-align: right;\">\n",
              "      <th></th>\n",
              "      <th>Variable</th>\n",
              "      <th>Meaning</th>\n",
              "      <th>Levels</th>\n",
              "    </tr>\n",
              "  </thead>\n",
              "  <tbody>\n",
              "    <tr>\n",
              "      <th>0</th>\n",
              "      <td>Age</td>\n",
              "      <td>Age of the employee</td>\n",
              "      <td>NaN</td>\n",
              "    </tr>\n",
              "    <tr>\n",
              "      <th>1</th>\n",
              "      <td>Attrition</td>\n",
              "      <td>Whether the employee left in the previous year...</td>\n",
              "      <td>NaN</td>\n",
              "    </tr>\n",
              "    <tr>\n",
              "      <th>2</th>\n",
              "      <td>BusinessTravel</td>\n",
              "      <td>How frequently the employees travelled for bus...</td>\n",
              "      <td>NaN</td>\n",
              "    </tr>\n",
              "    <tr>\n",
              "      <th>3</th>\n",
              "      <td>Department</td>\n",
              "      <td>Department in company</td>\n",
              "      <td>NaN</td>\n",
              "    </tr>\n",
              "    <tr>\n",
              "      <th>4</th>\n",
              "      <td>DistanceFromHome</td>\n",
              "      <td>Distance from home in kms</td>\n",
              "      <td>NaN</td>\n",
              "    </tr>\n",
              "  </tbody>\n",
              "</table>\n",
              "</div>\n",
              "      <button class=\"colab-df-convert\" onclick=\"convertToInteractive('df-4194a64e-ca2e-464c-92fd-c23177955400')\"\n",
              "              title=\"Convert this dataframe to an interactive table.\"\n",
              "              style=\"display:none;\">\n",
              "        \n",
              "  <svg xmlns=\"http://www.w3.org/2000/svg\" height=\"24px\"viewBox=\"0 0 24 24\"\n",
              "       width=\"24px\">\n",
              "    <path d=\"M0 0h24v24H0V0z\" fill=\"none\"/>\n",
              "    <path d=\"M18.56 5.44l.94 2.06.94-2.06 2.06-.94-2.06-.94-.94-2.06-.94 2.06-2.06.94zm-11 1L8.5 8.5l.94-2.06 2.06-.94-2.06-.94L8.5 2.5l-.94 2.06-2.06.94zm10 10l.94 2.06.94-2.06 2.06-.94-2.06-.94-.94-2.06-.94 2.06-2.06.94z\"/><path d=\"M17.41 7.96l-1.37-1.37c-.4-.4-.92-.59-1.43-.59-.52 0-1.04.2-1.43.59L10.3 9.45l-7.72 7.72c-.78.78-.78 2.05 0 2.83L4 21.41c.39.39.9.59 1.41.59.51 0 1.02-.2 1.41-.59l7.78-7.78 2.81-2.81c.8-.78.8-2.07 0-2.86zM5.41 20L4 18.59l7.72-7.72 1.47 1.35L5.41 20z\"/>\n",
              "  </svg>\n",
              "      </button>\n",
              "      \n",
              "  <style>\n",
              "    .colab-df-container {\n",
              "      display:flex;\n",
              "      flex-wrap:wrap;\n",
              "      gap: 12px;\n",
              "    }\n",
              "\n",
              "    .colab-df-convert {\n",
              "      background-color: #E8F0FE;\n",
              "      border: none;\n",
              "      border-radius: 50%;\n",
              "      cursor: pointer;\n",
              "      display: none;\n",
              "      fill: #1967D2;\n",
              "      height: 32px;\n",
              "      padding: 0 0 0 0;\n",
              "      width: 32px;\n",
              "    }\n",
              "\n",
              "    .colab-df-convert:hover {\n",
              "      background-color: #E2EBFA;\n",
              "      box-shadow: 0px 1px 2px rgba(60, 64, 67, 0.3), 0px 1px 3px 1px rgba(60, 64, 67, 0.15);\n",
              "      fill: #174EA6;\n",
              "    }\n",
              "\n",
              "    [theme=dark] .colab-df-convert {\n",
              "      background-color: #3B4455;\n",
              "      fill: #D2E3FC;\n",
              "    }\n",
              "\n",
              "    [theme=dark] .colab-df-convert:hover {\n",
              "      background-color: #434B5C;\n",
              "      box-shadow: 0px 1px 3px 1px rgba(0, 0, 0, 0.15);\n",
              "      filter: drop-shadow(0px 1px 2px rgba(0, 0, 0, 0.3));\n",
              "      fill: #FFFFFF;\n",
              "    }\n",
              "  </style>\n",
              "\n",
              "      <script>\n",
              "        const buttonEl =\n",
              "          document.querySelector('#df-4194a64e-ca2e-464c-92fd-c23177955400 button.colab-df-convert');\n",
              "        buttonEl.style.display =\n",
              "          google.colab.kernel.accessAllowed ? 'block' : 'none';\n",
              "\n",
              "        async function convertToInteractive(key) {\n",
              "          const element = document.querySelector('#df-4194a64e-ca2e-464c-92fd-c23177955400');\n",
              "          const dataTable =\n",
              "            await google.colab.kernel.invokeFunction('convertToInteractive',\n",
              "                                                     [key], {});\n",
              "          if (!dataTable) return;\n",
              "\n",
              "          const docLinkHtml = 'Like what you see? Visit the ' +\n",
              "            '<a target=\"_blank\" href=https://colab.research.google.com/notebooks/data_table.ipynb>data table notebook</a>'\n",
              "            + ' to learn more about interactive tables.';\n",
              "          element.innerHTML = '';\n",
              "          dataTable['output_type'] = 'display_data';\n",
              "          await google.colab.output.renderOutput(dataTable, element);\n",
              "          const docLink = document.createElement('div');\n",
              "          docLink.innerHTML = docLinkHtml;\n",
              "          element.appendChild(docLink);\n",
              "        }\n",
              "      </script>\n",
              "    </div>\n",
              "  </div>\n",
              "  "
            ]
          },
          "metadata": {},
          "execution_count": 5
        }
      ]
    },
    {
      "cell_type": "code",
      "source": [
        "HR1.info()"
      ],
      "metadata": {
        "colab": {
          "base_uri": "https://localhost:8080/"
        },
        "outputId": "63c9924c-9057-4f85-b47b-849a57bdedcf",
        "id": "fP76j-lDIEpp"
      },
      "execution_count": null,
      "outputs": [
        {
          "output_type": "stream",
          "name": "stdout",
          "text": [
            "<class 'pandas.core.frame.DataFrame'>\n",
            "RangeIndex: 52 entries, 0 to 51\n",
            "Data columns (total 3 columns):\n",
            " #   Column    Non-Null Count  Dtype \n",
            "---  ------    --------------  ----- \n",
            " 0   Variable  30 non-null     object\n",
            " 1   Meaning   30 non-null     object\n",
            " 2   Levels    29 non-null     object\n",
            "dtypes: object(3)\n",
            "memory usage: 1.3+ KB\n"
          ]
        }
      ]
    },
    {
      "cell_type": "code",
      "source": [
        "HR2.head()"
      ],
      "metadata": {
        "colab": {
          "base_uri": "https://localhost:8080/",
          "height": 206
        },
        "id": "zprfN-3RI5Pt",
        "outputId": "d4136d52-4b61-469a-ba13-9418f0c5ad86"
      },
      "execution_count": null,
      "outputs": [
        {
          "output_type": "execute_result",
          "data": {
            "text/plain": [
              "   EmployeeID  EnvironmentSatisfaction  JobSatisfaction  WorkLifeBalance\n",
              "0           1                      3.0              4.0              2.0\n",
              "1           2                      3.0              2.0              4.0\n",
              "2           3                      2.0              2.0              1.0\n",
              "3           4                      4.0              4.0              3.0\n",
              "4           5                      4.0              1.0              3.0"
            ],
            "text/html": [
              "\n",
              "  <div id=\"df-0b074a65-356e-43e2-af37-6062c82eff96\">\n",
              "    <div class=\"colab-df-container\">\n",
              "      <div>\n",
              "<style scoped>\n",
              "    .dataframe tbody tr th:only-of-type {\n",
              "        vertical-align: middle;\n",
              "    }\n",
              "\n",
              "    .dataframe tbody tr th {\n",
              "        vertical-align: top;\n",
              "    }\n",
              "\n",
              "    .dataframe thead th {\n",
              "        text-align: right;\n",
              "    }\n",
              "</style>\n",
              "<table border=\"1\" class=\"dataframe\">\n",
              "  <thead>\n",
              "    <tr style=\"text-align: right;\">\n",
              "      <th></th>\n",
              "      <th>EmployeeID</th>\n",
              "      <th>EnvironmentSatisfaction</th>\n",
              "      <th>JobSatisfaction</th>\n",
              "      <th>WorkLifeBalance</th>\n",
              "    </tr>\n",
              "  </thead>\n",
              "  <tbody>\n",
              "    <tr>\n",
              "      <th>0</th>\n",
              "      <td>1</td>\n",
              "      <td>3.0</td>\n",
              "      <td>4.0</td>\n",
              "      <td>2.0</td>\n",
              "    </tr>\n",
              "    <tr>\n",
              "      <th>1</th>\n",
              "      <td>2</td>\n",
              "      <td>3.0</td>\n",
              "      <td>2.0</td>\n",
              "      <td>4.0</td>\n",
              "    </tr>\n",
              "    <tr>\n",
              "      <th>2</th>\n",
              "      <td>3</td>\n",
              "      <td>2.0</td>\n",
              "      <td>2.0</td>\n",
              "      <td>1.0</td>\n",
              "    </tr>\n",
              "    <tr>\n",
              "      <th>3</th>\n",
              "      <td>4</td>\n",
              "      <td>4.0</td>\n",
              "      <td>4.0</td>\n",
              "      <td>3.0</td>\n",
              "    </tr>\n",
              "    <tr>\n",
              "      <th>4</th>\n",
              "      <td>5</td>\n",
              "      <td>4.0</td>\n",
              "      <td>1.0</td>\n",
              "      <td>3.0</td>\n",
              "    </tr>\n",
              "  </tbody>\n",
              "</table>\n",
              "</div>\n",
              "      <button class=\"colab-df-convert\" onclick=\"convertToInteractive('df-0b074a65-356e-43e2-af37-6062c82eff96')\"\n",
              "              title=\"Convert this dataframe to an interactive table.\"\n",
              "              style=\"display:none;\">\n",
              "        \n",
              "  <svg xmlns=\"http://www.w3.org/2000/svg\" height=\"24px\"viewBox=\"0 0 24 24\"\n",
              "       width=\"24px\">\n",
              "    <path d=\"M0 0h24v24H0V0z\" fill=\"none\"/>\n",
              "    <path d=\"M18.56 5.44l.94 2.06.94-2.06 2.06-.94-2.06-.94-.94-2.06-.94 2.06-2.06.94zm-11 1L8.5 8.5l.94-2.06 2.06-.94-2.06-.94L8.5 2.5l-.94 2.06-2.06.94zm10 10l.94 2.06.94-2.06 2.06-.94-2.06-.94-.94-2.06-.94 2.06-2.06.94z\"/><path d=\"M17.41 7.96l-1.37-1.37c-.4-.4-.92-.59-1.43-.59-.52 0-1.04.2-1.43.59L10.3 9.45l-7.72 7.72c-.78.78-.78 2.05 0 2.83L4 21.41c.39.39.9.59 1.41.59.51 0 1.02-.2 1.41-.59l7.78-7.78 2.81-2.81c.8-.78.8-2.07 0-2.86zM5.41 20L4 18.59l7.72-7.72 1.47 1.35L5.41 20z\"/>\n",
              "  </svg>\n",
              "      </button>\n",
              "      \n",
              "  <style>\n",
              "    .colab-df-container {\n",
              "      display:flex;\n",
              "      flex-wrap:wrap;\n",
              "      gap: 12px;\n",
              "    }\n",
              "\n",
              "    .colab-df-convert {\n",
              "      background-color: #E8F0FE;\n",
              "      border: none;\n",
              "      border-radius: 50%;\n",
              "      cursor: pointer;\n",
              "      display: none;\n",
              "      fill: #1967D2;\n",
              "      height: 32px;\n",
              "      padding: 0 0 0 0;\n",
              "      width: 32px;\n",
              "    }\n",
              "\n",
              "    .colab-df-convert:hover {\n",
              "      background-color: #E2EBFA;\n",
              "      box-shadow: 0px 1px 2px rgba(60, 64, 67, 0.3), 0px 1px 3px 1px rgba(60, 64, 67, 0.15);\n",
              "      fill: #174EA6;\n",
              "    }\n",
              "\n",
              "    [theme=dark] .colab-df-convert {\n",
              "      background-color: #3B4455;\n",
              "      fill: #D2E3FC;\n",
              "    }\n",
              "\n",
              "    [theme=dark] .colab-df-convert:hover {\n",
              "      background-color: #434B5C;\n",
              "      box-shadow: 0px 1px 3px 1px rgba(0, 0, 0, 0.15);\n",
              "      filter: drop-shadow(0px 1px 2px rgba(0, 0, 0, 0.3));\n",
              "      fill: #FFFFFF;\n",
              "    }\n",
              "  </style>\n",
              "\n",
              "      <script>\n",
              "        const buttonEl =\n",
              "          document.querySelector('#df-0b074a65-356e-43e2-af37-6062c82eff96 button.colab-df-convert');\n",
              "        buttonEl.style.display =\n",
              "          google.colab.kernel.accessAllowed ? 'block' : 'none';\n",
              "\n",
              "        async function convertToInteractive(key) {\n",
              "          const element = document.querySelector('#df-0b074a65-356e-43e2-af37-6062c82eff96');\n",
              "          const dataTable =\n",
              "            await google.colab.kernel.invokeFunction('convertToInteractive',\n",
              "                                                     [key], {});\n",
              "          if (!dataTable) return;\n",
              "\n",
              "          const docLinkHtml = 'Like what you see? Visit the ' +\n",
              "            '<a target=\"_blank\" href=https://colab.research.google.com/notebooks/data_table.ipynb>data table notebook</a>'\n",
              "            + ' to learn more about interactive tables.';\n",
              "          element.innerHTML = '';\n",
              "          dataTable['output_type'] = 'display_data';\n",
              "          await google.colab.output.renderOutput(dataTable, element);\n",
              "          const docLink = document.createElement('div');\n",
              "          docLink.innerHTML = docLinkHtml;\n",
              "          element.appendChild(docLink);\n",
              "        }\n",
              "      </script>\n",
              "    </div>\n",
              "  </div>\n",
              "  "
            ]
          },
          "metadata": {},
          "execution_count": 7
        }
      ]
    },
    {
      "cell_type": "code",
      "source": [
        "HR2.info()"
      ],
      "metadata": {
        "colab": {
          "base_uri": "https://localhost:8080/"
        },
        "id": "9UYDNGbmI5M6",
        "outputId": "3227c1bd-89cf-465a-b623-4def42910bdd"
      },
      "execution_count": null,
      "outputs": [
        {
          "output_type": "stream",
          "name": "stdout",
          "text": [
            "<class 'pandas.core.frame.DataFrame'>\n",
            "RangeIndex: 4410 entries, 0 to 4409\n",
            "Data columns (total 4 columns):\n",
            " #   Column                   Non-Null Count  Dtype  \n",
            "---  ------                   --------------  -----  \n",
            " 0   EmployeeID               4410 non-null   int64  \n",
            " 1   EnvironmentSatisfaction  4385 non-null   float64\n",
            " 2   JobSatisfaction          4390 non-null   float64\n",
            " 3   WorkLifeBalance          4372 non-null   float64\n",
            "dtypes: float64(3), int64(1)\n",
            "memory usage: 137.9 KB\n"
          ]
        }
      ]
    },
    {
      "cell_type": "code",
      "source": [
        "HR3.head()"
      ],
      "metadata": {
        "colab": {
          "base_uri": "https://localhost:8080/",
          "height": 206
        },
        "id": "l80s8Tb5I5Jd",
        "outputId": "ecd6d4d5-d4aa-4df7-f5c5-e6a5134d6d6f"
      },
      "execution_count": null,
      "outputs": [
        {
          "output_type": "execute_result",
          "data": {
            "text/plain": [
              "   EmployeeID  JobInvolvement  PerformanceRating\n",
              "0           1               3                  3\n",
              "1           2               2                  4\n",
              "2           3               3                  3\n",
              "3           4               2                  3\n",
              "4           5               3                  3"
            ],
            "text/html": [
              "\n",
              "  <div id=\"df-18a053a7-e7e5-4fe6-a452-221e67f35fd5\">\n",
              "    <div class=\"colab-df-container\">\n",
              "      <div>\n",
              "<style scoped>\n",
              "    .dataframe tbody tr th:only-of-type {\n",
              "        vertical-align: middle;\n",
              "    }\n",
              "\n",
              "    .dataframe tbody tr th {\n",
              "        vertical-align: top;\n",
              "    }\n",
              "\n",
              "    .dataframe thead th {\n",
              "        text-align: right;\n",
              "    }\n",
              "</style>\n",
              "<table border=\"1\" class=\"dataframe\">\n",
              "  <thead>\n",
              "    <tr style=\"text-align: right;\">\n",
              "      <th></th>\n",
              "      <th>EmployeeID</th>\n",
              "      <th>JobInvolvement</th>\n",
              "      <th>PerformanceRating</th>\n",
              "    </tr>\n",
              "  </thead>\n",
              "  <tbody>\n",
              "    <tr>\n",
              "      <th>0</th>\n",
              "      <td>1</td>\n",
              "      <td>3</td>\n",
              "      <td>3</td>\n",
              "    </tr>\n",
              "    <tr>\n",
              "      <th>1</th>\n",
              "      <td>2</td>\n",
              "      <td>2</td>\n",
              "      <td>4</td>\n",
              "    </tr>\n",
              "    <tr>\n",
              "      <th>2</th>\n",
              "      <td>3</td>\n",
              "      <td>3</td>\n",
              "      <td>3</td>\n",
              "    </tr>\n",
              "    <tr>\n",
              "      <th>3</th>\n",
              "      <td>4</td>\n",
              "      <td>2</td>\n",
              "      <td>3</td>\n",
              "    </tr>\n",
              "    <tr>\n",
              "      <th>4</th>\n",
              "      <td>5</td>\n",
              "      <td>3</td>\n",
              "      <td>3</td>\n",
              "    </tr>\n",
              "  </tbody>\n",
              "</table>\n",
              "</div>\n",
              "      <button class=\"colab-df-convert\" onclick=\"convertToInteractive('df-18a053a7-e7e5-4fe6-a452-221e67f35fd5')\"\n",
              "              title=\"Convert this dataframe to an interactive table.\"\n",
              "              style=\"display:none;\">\n",
              "        \n",
              "  <svg xmlns=\"http://www.w3.org/2000/svg\" height=\"24px\"viewBox=\"0 0 24 24\"\n",
              "       width=\"24px\">\n",
              "    <path d=\"M0 0h24v24H0V0z\" fill=\"none\"/>\n",
              "    <path d=\"M18.56 5.44l.94 2.06.94-2.06 2.06-.94-2.06-.94-.94-2.06-.94 2.06-2.06.94zm-11 1L8.5 8.5l.94-2.06 2.06-.94-2.06-.94L8.5 2.5l-.94 2.06-2.06.94zm10 10l.94 2.06.94-2.06 2.06-.94-2.06-.94-.94-2.06-.94 2.06-2.06.94z\"/><path d=\"M17.41 7.96l-1.37-1.37c-.4-.4-.92-.59-1.43-.59-.52 0-1.04.2-1.43.59L10.3 9.45l-7.72 7.72c-.78.78-.78 2.05 0 2.83L4 21.41c.39.39.9.59 1.41.59.51 0 1.02-.2 1.41-.59l7.78-7.78 2.81-2.81c.8-.78.8-2.07 0-2.86zM5.41 20L4 18.59l7.72-7.72 1.47 1.35L5.41 20z\"/>\n",
              "  </svg>\n",
              "      </button>\n",
              "      \n",
              "  <style>\n",
              "    .colab-df-container {\n",
              "      display:flex;\n",
              "      flex-wrap:wrap;\n",
              "      gap: 12px;\n",
              "    }\n",
              "\n",
              "    .colab-df-convert {\n",
              "      background-color: #E8F0FE;\n",
              "      border: none;\n",
              "      border-radius: 50%;\n",
              "      cursor: pointer;\n",
              "      display: none;\n",
              "      fill: #1967D2;\n",
              "      height: 32px;\n",
              "      padding: 0 0 0 0;\n",
              "      width: 32px;\n",
              "    }\n",
              "\n",
              "    .colab-df-convert:hover {\n",
              "      background-color: #E2EBFA;\n",
              "      box-shadow: 0px 1px 2px rgba(60, 64, 67, 0.3), 0px 1px 3px 1px rgba(60, 64, 67, 0.15);\n",
              "      fill: #174EA6;\n",
              "    }\n",
              "\n",
              "    [theme=dark] .colab-df-convert {\n",
              "      background-color: #3B4455;\n",
              "      fill: #D2E3FC;\n",
              "    }\n",
              "\n",
              "    [theme=dark] .colab-df-convert:hover {\n",
              "      background-color: #434B5C;\n",
              "      box-shadow: 0px 1px 3px 1px rgba(0, 0, 0, 0.15);\n",
              "      filter: drop-shadow(0px 1px 2px rgba(0, 0, 0, 0.3));\n",
              "      fill: #FFFFFF;\n",
              "    }\n",
              "  </style>\n",
              "\n",
              "      <script>\n",
              "        const buttonEl =\n",
              "          document.querySelector('#df-18a053a7-e7e5-4fe6-a452-221e67f35fd5 button.colab-df-convert');\n",
              "        buttonEl.style.display =\n",
              "          google.colab.kernel.accessAllowed ? 'block' : 'none';\n",
              "\n",
              "        async function convertToInteractive(key) {\n",
              "          const element = document.querySelector('#df-18a053a7-e7e5-4fe6-a452-221e67f35fd5');\n",
              "          const dataTable =\n",
              "            await google.colab.kernel.invokeFunction('convertToInteractive',\n",
              "                                                     [key], {});\n",
              "          if (!dataTable) return;\n",
              "\n",
              "          const docLinkHtml = 'Like what you see? Visit the ' +\n",
              "            '<a target=\"_blank\" href=https://colab.research.google.com/notebooks/data_table.ipynb>data table notebook</a>'\n",
              "            + ' to learn more about interactive tables.';\n",
              "          element.innerHTML = '';\n",
              "          dataTable['output_type'] = 'display_data';\n",
              "          await google.colab.output.renderOutput(dataTable, element);\n",
              "          const docLink = document.createElement('div');\n",
              "          docLink.innerHTML = docLinkHtml;\n",
              "          element.appendChild(docLink);\n",
              "        }\n",
              "      </script>\n",
              "    </div>\n",
              "  </div>\n",
              "  "
            ]
          },
          "metadata": {},
          "execution_count": 9
        }
      ]
    },
    {
      "cell_type": "code",
      "source": [
        "HR3.info()"
      ],
      "metadata": {
        "colab": {
          "base_uri": "https://localhost:8080/"
        },
        "id": "DK2Zmi_CI5E-",
        "outputId": "c9c4d9c6-c25f-4e94-c95b-99754bc05c1b"
      },
      "execution_count": null,
      "outputs": [
        {
          "output_type": "stream",
          "name": "stdout",
          "text": [
            "<class 'pandas.core.frame.DataFrame'>\n",
            "RangeIndex: 4410 entries, 0 to 4409\n",
            "Data columns (total 3 columns):\n",
            " #   Column             Non-Null Count  Dtype\n",
            "---  ------             --------------  -----\n",
            " 0   EmployeeID         4410 non-null   int64\n",
            " 1   JobInvolvement     4410 non-null   int64\n",
            " 2   PerformanceRating  4410 non-null   int64\n",
            "dtypes: int64(3)\n",
            "memory usage: 103.5 KB\n"
          ]
        }
      ]
    },
    {
      "cell_type": "markdown",
      "source": [
        "## Merging the datasets into 1"
      ],
      "metadata": {
        "id": "50bsZ-q-JbSh"
      }
    },
    {
      "cell_type": "markdown",
      "source": [
        "To get to work it will be best to merged all the datasets into one single dataframe, as otherwise it will be a circus show. To start off, we will merged the main dataset with employee survey, and then the newly merged dataset with manager survey data. A good reason why that is possible is that they all have EmployeeID in common, meaning there will be the same amount of staff in all the surveys"
      ],
      "metadata": {
        "id": "M_LMUZ6tKqxy"
      }
    },
    {
      "cell_type": "code",
      "source": [
        "MergedHR = pd.merge(HR, HR2)"
      ],
      "metadata": {
        "id": "LkcMNx3QI42G"
      },
      "execution_count": null,
      "outputs": []
    },
    {
      "cell_type": "code",
      "source": [
        "DataHR = pd.merge(MergedHR, HR3)"
      ],
      "metadata": {
        "id": "2KSsUajaJ_Hm"
      },
      "execution_count": null,
      "outputs": []
    },
    {
      "cell_type": "code",
      "source": [
        "DataHR.info()"
      ],
      "metadata": {
        "colab": {
          "base_uri": "https://localhost:8080/"
        },
        "id": "b2WWJTtRKYXS",
        "outputId": "d92da788-d91e-4a15-d844-8887e7814c01"
      },
      "execution_count": null,
      "outputs": [
        {
          "output_type": "stream",
          "name": "stdout",
          "text": [
            "<class 'pandas.core.frame.DataFrame'>\n",
            "Int64Index: 4410 entries, 0 to 4409\n",
            "Data columns (total 29 columns):\n",
            " #   Column                   Non-Null Count  Dtype  \n",
            "---  ------                   --------------  -----  \n",
            " 0   Age                      4410 non-null   int64  \n",
            " 1   Attrition                4410 non-null   object \n",
            " 2   BusinessTravel           4410 non-null   object \n",
            " 3   Department               4410 non-null   object \n",
            " 4   DistanceFromHome         4410 non-null   int64  \n",
            " 5   Education                4410 non-null   int64  \n",
            " 6   EducationField           4410 non-null   object \n",
            " 7   EmployeeCount            4410 non-null   int64  \n",
            " 8   EmployeeID               4410 non-null   int64  \n",
            " 9   Gender                   4410 non-null   object \n",
            " 10  JobLevel                 4410 non-null   int64  \n",
            " 11  JobRole                  4410 non-null   object \n",
            " 12  MaritalStatus            4410 non-null   object \n",
            " 13  MonthlyIncome            4410 non-null   int64  \n",
            " 14  NumCompaniesWorked       4391 non-null   float64\n",
            " 15  Over18                   4410 non-null   object \n",
            " 16  PercentSalaryHike        4410 non-null   int64  \n",
            " 17  StandardHours            4410 non-null   int64  \n",
            " 18  StockOptionLevel         4410 non-null   int64  \n",
            " 19  TotalWorkingYears        4401 non-null   float64\n",
            " 20  TrainingTimesLastYear    4410 non-null   int64  \n",
            " 21  YearsAtCompany           4410 non-null   int64  \n",
            " 22  YearsSinceLastPromotion  4410 non-null   int64  \n",
            " 23  YearsWithCurrManager     4410 non-null   int64  \n",
            " 24  EnvironmentSatisfaction  4385 non-null   float64\n",
            " 25  JobSatisfaction          4390 non-null   float64\n",
            " 26  WorkLifeBalance          4372 non-null   float64\n",
            " 27  JobInvolvement           4410 non-null   int64  \n",
            " 28  PerformanceRating        4410 non-null   int64  \n",
            "dtypes: float64(5), int64(16), object(8)\n",
            "memory usage: 1.0+ MB\n"
          ]
        }
      ]
    },
    {
      "cell_type": "markdown",
      "source": [
        "## Data cleaning\n",
        "\n",
        "We wil conduct data cleaning on the dataframework. This is done to remove the missing values, and other N/A in the answer inputs. Likewise it will also be done to remove either intentional, or unitentional typing errors.\n",
        "\n",
        "At a later date this will allow us to drop datapoints if we deem it beneficial for the EDA"
      ],
      "metadata": {
        "id": "TaKA5XpxLm5Y"
      }
    },
    {
      "cell_type": "code",
      "source": [
        "DataHR.isna().sum()\n",
        "#We will now do a quick search for the values that is missing. \n",
        "#As it can be seen, there is quite a few missing points in the DataHR\n"
      ],
      "metadata": {
        "colab": {
          "base_uri": "https://localhost:8080/"
        },
        "id": "gMlY42A9Npzc",
        "outputId": "fe2682f7-eaa5-4c98-a23f-cad034a9ce39"
      },
      "execution_count": null,
      "outputs": [
        {
          "output_type": "execute_result",
          "data": {
            "text/plain": [
              "Age                         0\n",
              "Attrition                   0\n",
              "BusinessTravel              0\n",
              "Department                  0\n",
              "DistanceFromHome            0\n",
              "Education                   0\n",
              "EducationField              0\n",
              "EmployeeCount               0\n",
              "EmployeeID                  0\n",
              "Gender                      0\n",
              "JobLevel                    0\n",
              "JobRole                     0\n",
              "MaritalStatus               0\n",
              "MonthlyIncome               0\n",
              "NumCompaniesWorked         19\n",
              "Over18                      0\n",
              "PercentSalaryHike           0\n",
              "StandardHours               0\n",
              "StockOptionLevel            0\n",
              "TotalWorkingYears           9\n",
              "TrainingTimesLastYear       0\n",
              "YearsAtCompany              0\n",
              "YearsSinceLastPromotion     0\n",
              "YearsWithCurrManager        0\n",
              "EnvironmentSatisfaction    25\n",
              "JobSatisfaction            20\n",
              "WorkLifeBalance            38\n",
              "JobInvolvement              0\n",
              "PerformanceRating           0\n",
              "dtype: int64"
            ]
          },
          "metadata": {},
          "execution_count": 14
        }
      ]
    },
    {
      "cell_type": "code",
      "source": [
        "DataHR.dropna()\n",
        "#As we found out there are some N/As in the DataHR, so now we are going to send them away by using the dropna. command. As there are not larger amounts it will not have a greater influence on the overall datafram as a whole"
      ],
      "metadata": {
        "colab": {
          "base_uri": "https://localhost:8080/",
          "height": 609
        },
        "id": "0XsVgHUJMcts",
        "outputId": "64e2af7b-4da2-4281-bbff-1eb237c2672a"
      },
      "execution_count": null,
      "outputs": [
        {
          "output_type": "execute_result",
          "data": {
            "text/plain": [
              "      Age Attrition     BusinessTravel              Department  \\\n",
              "0      51        No      Travel_Rarely                   Sales   \n",
              "1      31       Yes  Travel_Frequently  Research & Development   \n",
              "2      32        No  Travel_Frequently  Research & Development   \n",
              "3      38        No         Non-Travel  Research & Development   \n",
              "4      32        No      Travel_Rarely  Research & Development   \n",
              "...   ...       ...                ...                     ...   \n",
              "4404   29        No      Travel_Rarely                   Sales   \n",
              "4405   42        No      Travel_Rarely  Research & Development   \n",
              "4406   29        No      Travel_Rarely  Research & Development   \n",
              "4407   25        No      Travel_Rarely  Research & Development   \n",
              "4408   42        No      Travel_Rarely                   Sales   \n",
              "\n",
              "      DistanceFromHome  Education EducationField  EmployeeCount  EmployeeID  \\\n",
              "0                    6          2  Life Sciences              1           1   \n",
              "1                   10          1  Life Sciences              1           2   \n",
              "2                   17          4          Other              1           3   \n",
              "3                    2          5  Life Sciences              1           4   \n",
              "4                   10          1        Medical              1           5   \n",
              "...                ...        ...            ...            ...         ...   \n",
              "4404                 4          3          Other              1        4405   \n",
              "4405                 5          4        Medical              1        4406   \n",
              "4406                 2          4        Medical              1        4407   \n",
              "4407                25          2  Life Sciences              1        4408   \n",
              "4408                18          2        Medical              1        4409   \n",
              "\n",
              "      Gender  ...  TotalWorkingYears TrainingTimesLastYear YearsAtCompany  \\\n",
              "0     Female  ...                1.0                     6              1   \n",
              "1     Female  ...                6.0                     3              5   \n",
              "2       Male  ...                5.0                     2              5   \n",
              "3       Male  ...               13.0                     5              8   \n",
              "4       Male  ...                9.0                     2              6   \n",
              "...      ...  ...                ...                   ...            ...   \n",
              "4404  Female  ...                6.0                     2              6   \n",
              "4405  Female  ...               10.0                     5              3   \n",
              "4406    Male  ...               10.0                     2              3   \n",
              "4407    Male  ...                5.0                     4              4   \n",
              "4408    Male  ...               10.0                     2              9   \n",
              "\n",
              "      YearsSinceLastPromotion  YearsWithCurrManager EnvironmentSatisfaction  \\\n",
              "0                           0                     0                     3.0   \n",
              "1                           1                     4                     3.0   \n",
              "2                           0                     3                     2.0   \n",
              "3                           7                     5                     4.0   \n",
              "4                           0                     4                     4.0   \n",
              "...                       ...                   ...                     ...   \n",
              "4404                        1                     5                     3.0   \n",
              "4405                        0                     2                     4.0   \n",
              "4406                        0                     2                     4.0   \n",
              "4407                        1                     2                     1.0   \n",
              "4408                        7                     8                     4.0   \n",
              "\n",
              "      JobSatisfaction  WorkLifeBalance  JobInvolvement  PerformanceRating  \n",
              "0                 4.0              2.0               3                  3  \n",
              "1                 2.0              4.0               2                  4  \n",
              "2                 2.0              1.0               3                  3  \n",
              "3                 4.0              3.0               2                  3  \n",
              "4                 1.0              3.0               3                  3  \n",
              "...               ...              ...             ...                ...  \n",
              "4404              4.0              3.0               2                  3  \n",
              "4405              1.0              3.0               3                  3  \n",
              "4406              4.0              3.0               2                  3  \n",
              "4407              3.0              3.0               3                  4  \n",
              "4408              1.0              3.0               2                  3  \n",
              "\n",
              "[4300 rows x 29 columns]"
            ],
            "text/html": [
              "\n",
              "  <div id=\"df-e829a165-8cce-4de0-b7a9-690583bf81bb\">\n",
              "    <div class=\"colab-df-container\">\n",
              "      <div>\n",
              "<style scoped>\n",
              "    .dataframe tbody tr th:only-of-type {\n",
              "        vertical-align: middle;\n",
              "    }\n",
              "\n",
              "    .dataframe tbody tr th {\n",
              "        vertical-align: top;\n",
              "    }\n",
              "\n",
              "    .dataframe thead th {\n",
              "        text-align: right;\n",
              "    }\n",
              "</style>\n",
              "<table border=\"1\" class=\"dataframe\">\n",
              "  <thead>\n",
              "    <tr style=\"text-align: right;\">\n",
              "      <th></th>\n",
              "      <th>Age</th>\n",
              "      <th>Attrition</th>\n",
              "      <th>BusinessTravel</th>\n",
              "      <th>Department</th>\n",
              "      <th>DistanceFromHome</th>\n",
              "      <th>Education</th>\n",
              "      <th>EducationField</th>\n",
              "      <th>EmployeeCount</th>\n",
              "      <th>EmployeeID</th>\n",
              "      <th>Gender</th>\n",
              "      <th>...</th>\n",
              "      <th>TotalWorkingYears</th>\n",
              "      <th>TrainingTimesLastYear</th>\n",
              "      <th>YearsAtCompany</th>\n",
              "      <th>YearsSinceLastPromotion</th>\n",
              "      <th>YearsWithCurrManager</th>\n",
              "      <th>EnvironmentSatisfaction</th>\n",
              "      <th>JobSatisfaction</th>\n",
              "      <th>WorkLifeBalance</th>\n",
              "      <th>JobInvolvement</th>\n",
              "      <th>PerformanceRating</th>\n",
              "    </tr>\n",
              "  </thead>\n",
              "  <tbody>\n",
              "    <tr>\n",
              "      <th>0</th>\n",
              "      <td>51</td>\n",
              "      <td>No</td>\n",
              "      <td>Travel_Rarely</td>\n",
              "      <td>Sales</td>\n",
              "      <td>6</td>\n",
              "      <td>2</td>\n",
              "      <td>Life Sciences</td>\n",
              "      <td>1</td>\n",
              "      <td>1</td>\n",
              "      <td>Female</td>\n",
              "      <td>...</td>\n",
              "      <td>1.0</td>\n",
              "      <td>6</td>\n",
              "      <td>1</td>\n",
              "      <td>0</td>\n",
              "      <td>0</td>\n",
              "      <td>3.0</td>\n",
              "      <td>4.0</td>\n",
              "      <td>2.0</td>\n",
              "      <td>3</td>\n",
              "      <td>3</td>\n",
              "    </tr>\n",
              "    <tr>\n",
              "      <th>1</th>\n",
              "      <td>31</td>\n",
              "      <td>Yes</td>\n",
              "      <td>Travel_Frequently</td>\n",
              "      <td>Research &amp; Development</td>\n",
              "      <td>10</td>\n",
              "      <td>1</td>\n",
              "      <td>Life Sciences</td>\n",
              "      <td>1</td>\n",
              "      <td>2</td>\n",
              "      <td>Female</td>\n",
              "      <td>...</td>\n",
              "      <td>6.0</td>\n",
              "      <td>3</td>\n",
              "      <td>5</td>\n",
              "      <td>1</td>\n",
              "      <td>4</td>\n",
              "      <td>3.0</td>\n",
              "      <td>2.0</td>\n",
              "      <td>4.0</td>\n",
              "      <td>2</td>\n",
              "      <td>4</td>\n",
              "    </tr>\n",
              "    <tr>\n",
              "      <th>2</th>\n",
              "      <td>32</td>\n",
              "      <td>No</td>\n",
              "      <td>Travel_Frequently</td>\n",
              "      <td>Research &amp; Development</td>\n",
              "      <td>17</td>\n",
              "      <td>4</td>\n",
              "      <td>Other</td>\n",
              "      <td>1</td>\n",
              "      <td>3</td>\n",
              "      <td>Male</td>\n",
              "      <td>...</td>\n",
              "      <td>5.0</td>\n",
              "      <td>2</td>\n",
              "      <td>5</td>\n",
              "      <td>0</td>\n",
              "      <td>3</td>\n",
              "      <td>2.0</td>\n",
              "      <td>2.0</td>\n",
              "      <td>1.0</td>\n",
              "      <td>3</td>\n",
              "      <td>3</td>\n",
              "    </tr>\n",
              "    <tr>\n",
              "      <th>3</th>\n",
              "      <td>38</td>\n",
              "      <td>No</td>\n",
              "      <td>Non-Travel</td>\n",
              "      <td>Research &amp; Development</td>\n",
              "      <td>2</td>\n",
              "      <td>5</td>\n",
              "      <td>Life Sciences</td>\n",
              "      <td>1</td>\n",
              "      <td>4</td>\n",
              "      <td>Male</td>\n",
              "      <td>...</td>\n",
              "      <td>13.0</td>\n",
              "      <td>5</td>\n",
              "      <td>8</td>\n",
              "      <td>7</td>\n",
              "      <td>5</td>\n",
              "      <td>4.0</td>\n",
              "      <td>4.0</td>\n",
              "      <td>3.0</td>\n",
              "      <td>2</td>\n",
              "      <td>3</td>\n",
              "    </tr>\n",
              "    <tr>\n",
              "      <th>4</th>\n",
              "      <td>32</td>\n",
              "      <td>No</td>\n",
              "      <td>Travel_Rarely</td>\n",
              "      <td>Research &amp; Development</td>\n",
              "      <td>10</td>\n",
              "      <td>1</td>\n",
              "      <td>Medical</td>\n",
              "      <td>1</td>\n",
              "      <td>5</td>\n",
              "      <td>Male</td>\n",
              "      <td>...</td>\n",
              "      <td>9.0</td>\n",
              "      <td>2</td>\n",
              "      <td>6</td>\n",
              "      <td>0</td>\n",
              "      <td>4</td>\n",
              "      <td>4.0</td>\n",
              "      <td>1.0</td>\n",
              "      <td>3.0</td>\n",
              "      <td>3</td>\n",
              "      <td>3</td>\n",
              "    </tr>\n",
              "    <tr>\n",
              "      <th>...</th>\n",
              "      <td>...</td>\n",
              "      <td>...</td>\n",
              "      <td>...</td>\n",
              "      <td>...</td>\n",
              "      <td>...</td>\n",
              "      <td>...</td>\n",
              "      <td>...</td>\n",
              "      <td>...</td>\n",
              "      <td>...</td>\n",
              "      <td>...</td>\n",
              "      <td>...</td>\n",
              "      <td>...</td>\n",
              "      <td>...</td>\n",
              "      <td>...</td>\n",
              "      <td>...</td>\n",
              "      <td>...</td>\n",
              "      <td>...</td>\n",
              "      <td>...</td>\n",
              "      <td>...</td>\n",
              "      <td>...</td>\n",
              "      <td>...</td>\n",
              "    </tr>\n",
              "    <tr>\n",
              "      <th>4404</th>\n",
              "      <td>29</td>\n",
              "      <td>No</td>\n",
              "      <td>Travel_Rarely</td>\n",
              "      <td>Sales</td>\n",
              "      <td>4</td>\n",
              "      <td>3</td>\n",
              "      <td>Other</td>\n",
              "      <td>1</td>\n",
              "      <td>4405</td>\n",
              "      <td>Female</td>\n",
              "      <td>...</td>\n",
              "      <td>6.0</td>\n",
              "      <td>2</td>\n",
              "      <td>6</td>\n",
              "      <td>1</td>\n",
              "      <td>5</td>\n",
              "      <td>3.0</td>\n",
              "      <td>4.0</td>\n",
              "      <td>3.0</td>\n",
              "      <td>2</td>\n",
              "      <td>3</td>\n",
              "    </tr>\n",
              "    <tr>\n",
              "      <th>4405</th>\n",
              "      <td>42</td>\n",
              "      <td>No</td>\n",
              "      <td>Travel_Rarely</td>\n",
              "      <td>Research &amp; Development</td>\n",
              "      <td>5</td>\n",
              "      <td>4</td>\n",
              "      <td>Medical</td>\n",
              "      <td>1</td>\n",
              "      <td>4406</td>\n",
              "      <td>Female</td>\n",
              "      <td>...</td>\n",
              "      <td>10.0</td>\n",
              "      <td>5</td>\n",
              "      <td>3</td>\n",
              "      <td>0</td>\n",
              "      <td>2</td>\n",
              "      <td>4.0</td>\n",
              "      <td>1.0</td>\n",
              "      <td>3.0</td>\n",
              "      <td>3</td>\n",
              "      <td>3</td>\n",
              "    </tr>\n",
              "    <tr>\n",
              "      <th>4406</th>\n",
              "      <td>29</td>\n",
              "      <td>No</td>\n",
              "      <td>Travel_Rarely</td>\n",
              "      <td>Research &amp; Development</td>\n",
              "      <td>2</td>\n",
              "      <td>4</td>\n",
              "      <td>Medical</td>\n",
              "      <td>1</td>\n",
              "      <td>4407</td>\n",
              "      <td>Male</td>\n",
              "      <td>...</td>\n",
              "      <td>10.0</td>\n",
              "      <td>2</td>\n",
              "      <td>3</td>\n",
              "      <td>0</td>\n",
              "      <td>2</td>\n",
              "      <td>4.0</td>\n",
              "      <td>4.0</td>\n",
              "      <td>3.0</td>\n",
              "      <td>2</td>\n",
              "      <td>3</td>\n",
              "    </tr>\n",
              "    <tr>\n",
              "      <th>4407</th>\n",
              "      <td>25</td>\n",
              "      <td>No</td>\n",
              "      <td>Travel_Rarely</td>\n",
              "      <td>Research &amp; Development</td>\n",
              "      <td>25</td>\n",
              "      <td>2</td>\n",
              "      <td>Life Sciences</td>\n",
              "      <td>1</td>\n",
              "      <td>4408</td>\n",
              "      <td>Male</td>\n",
              "      <td>...</td>\n",
              "      <td>5.0</td>\n",
              "      <td>4</td>\n",
              "      <td>4</td>\n",
              "      <td>1</td>\n",
              "      <td>2</td>\n",
              "      <td>1.0</td>\n",
              "      <td>3.0</td>\n",
              "      <td>3.0</td>\n",
              "      <td>3</td>\n",
              "      <td>4</td>\n",
              "    </tr>\n",
              "    <tr>\n",
              "      <th>4408</th>\n",
              "      <td>42</td>\n",
              "      <td>No</td>\n",
              "      <td>Travel_Rarely</td>\n",
              "      <td>Sales</td>\n",
              "      <td>18</td>\n",
              "      <td>2</td>\n",
              "      <td>Medical</td>\n",
              "      <td>1</td>\n",
              "      <td>4409</td>\n",
              "      <td>Male</td>\n",
              "      <td>...</td>\n",
              "      <td>10.0</td>\n",
              "      <td>2</td>\n",
              "      <td>9</td>\n",
              "      <td>7</td>\n",
              "      <td>8</td>\n",
              "      <td>4.0</td>\n",
              "      <td>1.0</td>\n",
              "      <td>3.0</td>\n",
              "      <td>2</td>\n",
              "      <td>3</td>\n",
              "    </tr>\n",
              "  </tbody>\n",
              "</table>\n",
              "<p>4300 rows × 29 columns</p>\n",
              "</div>\n",
              "      <button class=\"colab-df-convert\" onclick=\"convertToInteractive('df-e829a165-8cce-4de0-b7a9-690583bf81bb')\"\n",
              "              title=\"Convert this dataframe to an interactive table.\"\n",
              "              style=\"display:none;\">\n",
              "        \n",
              "  <svg xmlns=\"http://www.w3.org/2000/svg\" height=\"24px\"viewBox=\"0 0 24 24\"\n",
              "       width=\"24px\">\n",
              "    <path d=\"M0 0h24v24H0V0z\" fill=\"none\"/>\n",
              "    <path d=\"M18.56 5.44l.94 2.06.94-2.06 2.06-.94-2.06-.94-.94-2.06-.94 2.06-2.06.94zm-11 1L8.5 8.5l.94-2.06 2.06-.94-2.06-.94L8.5 2.5l-.94 2.06-2.06.94zm10 10l.94 2.06.94-2.06 2.06-.94-2.06-.94-.94-2.06-.94 2.06-2.06.94z\"/><path d=\"M17.41 7.96l-1.37-1.37c-.4-.4-.92-.59-1.43-.59-.52 0-1.04.2-1.43.59L10.3 9.45l-7.72 7.72c-.78.78-.78 2.05 0 2.83L4 21.41c.39.39.9.59 1.41.59.51 0 1.02-.2 1.41-.59l7.78-7.78 2.81-2.81c.8-.78.8-2.07 0-2.86zM5.41 20L4 18.59l7.72-7.72 1.47 1.35L5.41 20z\"/>\n",
              "  </svg>\n",
              "      </button>\n",
              "      \n",
              "  <style>\n",
              "    .colab-df-container {\n",
              "      display:flex;\n",
              "      flex-wrap:wrap;\n",
              "      gap: 12px;\n",
              "    }\n",
              "\n",
              "    .colab-df-convert {\n",
              "      background-color: #E8F0FE;\n",
              "      border: none;\n",
              "      border-radius: 50%;\n",
              "      cursor: pointer;\n",
              "      display: none;\n",
              "      fill: #1967D2;\n",
              "      height: 32px;\n",
              "      padding: 0 0 0 0;\n",
              "      width: 32px;\n",
              "    }\n",
              "\n",
              "    .colab-df-convert:hover {\n",
              "      background-color: #E2EBFA;\n",
              "      box-shadow: 0px 1px 2px rgba(60, 64, 67, 0.3), 0px 1px 3px 1px rgba(60, 64, 67, 0.15);\n",
              "      fill: #174EA6;\n",
              "    }\n",
              "\n",
              "    [theme=dark] .colab-df-convert {\n",
              "      background-color: #3B4455;\n",
              "      fill: #D2E3FC;\n",
              "    }\n",
              "\n",
              "    [theme=dark] .colab-df-convert:hover {\n",
              "      background-color: #434B5C;\n",
              "      box-shadow: 0px 1px 3px 1px rgba(0, 0, 0, 0.15);\n",
              "      filter: drop-shadow(0px 1px 2px rgba(0, 0, 0, 0.3));\n",
              "      fill: #FFFFFF;\n",
              "    }\n",
              "  </style>\n",
              "\n",
              "      <script>\n",
              "        const buttonEl =\n",
              "          document.querySelector('#df-e829a165-8cce-4de0-b7a9-690583bf81bb button.colab-df-convert');\n",
              "        buttonEl.style.display =\n",
              "          google.colab.kernel.accessAllowed ? 'block' : 'none';\n",
              "\n",
              "        async function convertToInteractive(key) {\n",
              "          const element = document.querySelector('#df-e829a165-8cce-4de0-b7a9-690583bf81bb');\n",
              "          const dataTable =\n",
              "            await google.colab.kernel.invokeFunction('convertToInteractive',\n",
              "                                                     [key], {});\n",
              "          if (!dataTable) return;\n",
              "\n",
              "          const docLinkHtml = 'Like what you see? Visit the ' +\n",
              "            '<a target=\"_blank\" href=https://colab.research.google.com/notebooks/data_table.ipynb>data table notebook</a>'\n",
              "            + ' to learn more about interactive tables.';\n",
              "          element.innerHTML = '';\n",
              "          dataTable['output_type'] = 'display_data';\n",
              "          await google.colab.output.renderOutput(dataTable, element);\n",
              "          const docLink = document.createElement('div');\n",
              "          docLink.innerHTML = docLinkHtml;\n",
              "          element.appendChild(docLink);\n",
              "        }\n",
              "      </script>\n",
              "    </div>\n",
              "  </div>\n",
              "  "
            ]
          },
          "metadata": {},
          "execution_count": 15
        }
      ]
    },
    {
      "cell_type": "code",
      "source": [
        "DataHR.shape\n",
        "#We will now do a .shape command to find the amount of variables, and the number of respondants to it. \n",
        "#As revealed, there are 29 different variables, and 4410 number of respondants to the data points."
      ],
      "metadata": {
        "colab": {
          "base_uri": "https://localhost:8080/"
        },
        "id": "RcN81JNu5feu",
        "outputId": "f3a1aa21-e55d-46e7-f5b4-338dad7f1d33"
      },
      "execution_count": null,
      "outputs": [
        {
          "output_type": "execute_result",
          "data": {
            "text/plain": [
              "(4410, 29)"
            ]
          },
          "metadata": {},
          "execution_count": 16
        }
      ]
    },
    {
      "cell_type": "markdown",
      "source": [
        "However looking at these numbers might be somewhat abstract for the non-technical mind, so next up we will construct a descriptor for the DataHR to show the means, amounts, and variables, this is done by using the .describe command. We will also transpose this so we can get the invidual colums on the side, this is by using .T"
      ],
      "metadata": {
        "id": "wVsaJygXM8ll"
      }
    },
    {
      "cell_type": "code",
      "source": [
        "DataHR.describe().T"
      ],
      "metadata": {
        "colab": {
          "base_uri": "https://localhost:8080/",
          "height": 708
        },
        "id": "3rJ3mnEUNSyX",
        "outputId": "2daa50a9-8794-44b7-a0b5-2ab442ca9f3e"
      },
      "execution_count": null,
      "outputs": [
        {
          "output_type": "execute_result",
          "data": {
            "text/plain": [
              "                          count          mean           std      min  \\\n",
              "Age                      4410.0     36.923810      9.133301     18.0   \n",
              "DistanceFromHome         4410.0      9.192517      8.105026      1.0   \n",
              "Education                4410.0      2.912925      1.023933      1.0   \n",
              "EmployeeCount            4410.0      1.000000      0.000000      1.0   \n",
              "EmployeeID               4410.0   2205.500000   1273.201673      1.0   \n",
              "JobLevel                 4410.0      2.063946      1.106689      1.0   \n",
              "MonthlyIncome            4410.0  65029.312925  47068.888559  10090.0   \n",
              "NumCompaniesWorked       4391.0      2.694830      2.498887      0.0   \n",
              "PercentSalaryHike        4410.0     15.209524      3.659108     11.0   \n",
              "StandardHours            4410.0      8.000000      0.000000      8.0   \n",
              "StockOptionLevel         4410.0      0.793878      0.851883      0.0   \n",
              "TotalWorkingYears        4401.0     11.279936      7.782222      0.0   \n",
              "TrainingTimesLastYear    4410.0      2.799320      1.288978      0.0   \n",
              "YearsAtCompany           4410.0      7.008163      6.125135      0.0   \n",
              "YearsSinceLastPromotion  4410.0      2.187755      3.221699      0.0   \n",
              "YearsWithCurrManager     4410.0      4.123129      3.567327      0.0   \n",
              "EnvironmentSatisfaction  4385.0      2.723603      1.092756      1.0   \n",
              "JobSatisfaction          4390.0      2.728246      1.101253      1.0   \n",
              "WorkLifeBalance          4372.0      2.761436      0.706245      1.0   \n",
              "JobInvolvement           4410.0      2.729932      0.711400      1.0   \n",
              "PerformanceRating        4410.0      3.153741      0.360742      3.0   \n",
              "\n",
              "                              25%      50%       75%       max  \n",
              "Age                         30.00     36.0     43.00      60.0  \n",
              "DistanceFromHome             2.00      7.0     14.00      29.0  \n",
              "Education                    2.00      3.0      4.00       5.0  \n",
              "EmployeeCount                1.00      1.0      1.00       1.0  \n",
              "EmployeeID                1103.25   2205.5   3307.75    4410.0  \n",
              "JobLevel                     1.00      2.0      3.00       5.0  \n",
              "MonthlyIncome            29110.00  49190.0  83800.00  199990.0  \n",
              "NumCompaniesWorked           1.00      2.0      4.00       9.0  \n",
              "PercentSalaryHike           12.00     14.0     18.00      25.0  \n",
              "StandardHours                8.00      8.0      8.00       8.0  \n",
              "StockOptionLevel             0.00      1.0      1.00       3.0  \n",
              "TotalWorkingYears            6.00     10.0     15.00      40.0  \n",
              "TrainingTimesLastYear        2.00      3.0      3.00       6.0  \n",
              "YearsAtCompany               3.00      5.0      9.00      40.0  \n",
              "YearsSinceLastPromotion      0.00      1.0      3.00      15.0  \n",
              "YearsWithCurrManager         2.00      3.0      7.00      17.0  \n",
              "EnvironmentSatisfaction      2.00      3.0      4.00       4.0  \n",
              "JobSatisfaction              2.00      3.0      4.00       4.0  \n",
              "WorkLifeBalance              2.00      3.0      3.00       4.0  \n",
              "JobInvolvement               2.00      3.0      3.00       4.0  \n",
              "PerformanceRating            3.00      3.0      3.00       4.0  "
            ],
            "text/html": [
              "\n",
              "  <div id=\"df-646e57bf-88c8-4ccb-8212-255e196d9183\">\n",
              "    <div class=\"colab-df-container\">\n",
              "      <div>\n",
              "<style scoped>\n",
              "    .dataframe tbody tr th:only-of-type {\n",
              "        vertical-align: middle;\n",
              "    }\n",
              "\n",
              "    .dataframe tbody tr th {\n",
              "        vertical-align: top;\n",
              "    }\n",
              "\n",
              "    .dataframe thead th {\n",
              "        text-align: right;\n",
              "    }\n",
              "</style>\n",
              "<table border=\"1\" class=\"dataframe\">\n",
              "  <thead>\n",
              "    <tr style=\"text-align: right;\">\n",
              "      <th></th>\n",
              "      <th>count</th>\n",
              "      <th>mean</th>\n",
              "      <th>std</th>\n",
              "      <th>min</th>\n",
              "      <th>25%</th>\n",
              "      <th>50%</th>\n",
              "      <th>75%</th>\n",
              "      <th>max</th>\n",
              "    </tr>\n",
              "  </thead>\n",
              "  <tbody>\n",
              "    <tr>\n",
              "      <th>Age</th>\n",
              "      <td>4410.0</td>\n",
              "      <td>36.923810</td>\n",
              "      <td>9.133301</td>\n",
              "      <td>18.0</td>\n",
              "      <td>30.00</td>\n",
              "      <td>36.0</td>\n",
              "      <td>43.00</td>\n",
              "      <td>60.0</td>\n",
              "    </tr>\n",
              "    <tr>\n",
              "      <th>DistanceFromHome</th>\n",
              "      <td>4410.0</td>\n",
              "      <td>9.192517</td>\n",
              "      <td>8.105026</td>\n",
              "      <td>1.0</td>\n",
              "      <td>2.00</td>\n",
              "      <td>7.0</td>\n",
              "      <td>14.00</td>\n",
              "      <td>29.0</td>\n",
              "    </tr>\n",
              "    <tr>\n",
              "      <th>Education</th>\n",
              "      <td>4410.0</td>\n",
              "      <td>2.912925</td>\n",
              "      <td>1.023933</td>\n",
              "      <td>1.0</td>\n",
              "      <td>2.00</td>\n",
              "      <td>3.0</td>\n",
              "      <td>4.00</td>\n",
              "      <td>5.0</td>\n",
              "    </tr>\n",
              "    <tr>\n",
              "      <th>EmployeeCount</th>\n",
              "      <td>4410.0</td>\n",
              "      <td>1.000000</td>\n",
              "      <td>0.000000</td>\n",
              "      <td>1.0</td>\n",
              "      <td>1.00</td>\n",
              "      <td>1.0</td>\n",
              "      <td>1.00</td>\n",
              "      <td>1.0</td>\n",
              "    </tr>\n",
              "    <tr>\n",
              "      <th>EmployeeID</th>\n",
              "      <td>4410.0</td>\n",
              "      <td>2205.500000</td>\n",
              "      <td>1273.201673</td>\n",
              "      <td>1.0</td>\n",
              "      <td>1103.25</td>\n",
              "      <td>2205.5</td>\n",
              "      <td>3307.75</td>\n",
              "      <td>4410.0</td>\n",
              "    </tr>\n",
              "    <tr>\n",
              "      <th>JobLevel</th>\n",
              "      <td>4410.0</td>\n",
              "      <td>2.063946</td>\n",
              "      <td>1.106689</td>\n",
              "      <td>1.0</td>\n",
              "      <td>1.00</td>\n",
              "      <td>2.0</td>\n",
              "      <td>3.00</td>\n",
              "      <td>5.0</td>\n",
              "    </tr>\n",
              "    <tr>\n",
              "      <th>MonthlyIncome</th>\n",
              "      <td>4410.0</td>\n",
              "      <td>65029.312925</td>\n",
              "      <td>47068.888559</td>\n",
              "      <td>10090.0</td>\n",
              "      <td>29110.00</td>\n",
              "      <td>49190.0</td>\n",
              "      <td>83800.00</td>\n",
              "      <td>199990.0</td>\n",
              "    </tr>\n",
              "    <tr>\n",
              "      <th>NumCompaniesWorked</th>\n",
              "      <td>4391.0</td>\n",
              "      <td>2.694830</td>\n",
              "      <td>2.498887</td>\n",
              "      <td>0.0</td>\n",
              "      <td>1.00</td>\n",
              "      <td>2.0</td>\n",
              "      <td>4.00</td>\n",
              "      <td>9.0</td>\n",
              "    </tr>\n",
              "    <tr>\n",
              "      <th>PercentSalaryHike</th>\n",
              "      <td>4410.0</td>\n",
              "      <td>15.209524</td>\n",
              "      <td>3.659108</td>\n",
              "      <td>11.0</td>\n",
              "      <td>12.00</td>\n",
              "      <td>14.0</td>\n",
              "      <td>18.00</td>\n",
              "      <td>25.0</td>\n",
              "    </tr>\n",
              "    <tr>\n",
              "      <th>StandardHours</th>\n",
              "      <td>4410.0</td>\n",
              "      <td>8.000000</td>\n",
              "      <td>0.000000</td>\n",
              "      <td>8.0</td>\n",
              "      <td>8.00</td>\n",
              "      <td>8.0</td>\n",
              "      <td>8.00</td>\n",
              "      <td>8.0</td>\n",
              "    </tr>\n",
              "    <tr>\n",
              "      <th>StockOptionLevel</th>\n",
              "      <td>4410.0</td>\n",
              "      <td>0.793878</td>\n",
              "      <td>0.851883</td>\n",
              "      <td>0.0</td>\n",
              "      <td>0.00</td>\n",
              "      <td>1.0</td>\n",
              "      <td>1.00</td>\n",
              "      <td>3.0</td>\n",
              "    </tr>\n",
              "    <tr>\n",
              "      <th>TotalWorkingYears</th>\n",
              "      <td>4401.0</td>\n",
              "      <td>11.279936</td>\n",
              "      <td>7.782222</td>\n",
              "      <td>0.0</td>\n",
              "      <td>6.00</td>\n",
              "      <td>10.0</td>\n",
              "      <td>15.00</td>\n",
              "      <td>40.0</td>\n",
              "    </tr>\n",
              "    <tr>\n",
              "      <th>TrainingTimesLastYear</th>\n",
              "      <td>4410.0</td>\n",
              "      <td>2.799320</td>\n",
              "      <td>1.288978</td>\n",
              "      <td>0.0</td>\n",
              "      <td>2.00</td>\n",
              "      <td>3.0</td>\n",
              "      <td>3.00</td>\n",
              "      <td>6.0</td>\n",
              "    </tr>\n",
              "    <tr>\n",
              "      <th>YearsAtCompany</th>\n",
              "      <td>4410.0</td>\n",
              "      <td>7.008163</td>\n",
              "      <td>6.125135</td>\n",
              "      <td>0.0</td>\n",
              "      <td>3.00</td>\n",
              "      <td>5.0</td>\n",
              "      <td>9.00</td>\n",
              "      <td>40.0</td>\n",
              "    </tr>\n",
              "    <tr>\n",
              "      <th>YearsSinceLastPromotion</th>\n",
              "      <td>4410.0</td>\n",
              "      <td>2.187755</td>\n",
              "      <td>3.221699</td>\n",
              "      <td>0.0</td>\n",
              "      <td>0.00</td>\n",
              "      <td>1.0</td>\n",
              "      <td>3.00</td>\n",
              "      <td>15.0</td>\n",
              "    </tr>\n",
              "    <tr>\n",
              "      <th>YearsWithCurrManager</th>\n",
              "      <td>4410.0</td>\n",
              "      <td>4.123129</td>\n",
              "      <td>3.567327</td>\n",
              "      <td>0.0</td>\n",
              "      <td>2.00</td>\n",
              "      <td>3.0</td>\n",
              "      <td>7.00</td>\n",
              "      <td>17.0</td>\n",
              "    </tr>\n",
              "    <tr>\n",
              "      <th>EnvironmentSatisfaction</th>\n",
              "      <td>4385.0</td>\n",
              "      <td>2.723603</td>\n",
              "      <td>1.092756</td>\n",
              "      <td>1.0</td>\n",
              "      <td>2.00</td>\n",
              "      <td>3.0</td>\n",
              "      <td>4.00</td>\n",
              "      <td>4.0</td>\n",
              "    </tr>\n",
              "    <tr>\n",
              "      <th>JobSatisfaction</th>\n",
              "      <td>4390.0</td>\n",
              "      <td>2.728246</td>\n",
              "      <td>1.101253</td>\n",
              "      <td>1.0</td>\n",
              "      <td>2.00</td>\n",
              "      <td>3.0</td>\n",
              "      <td>4.00</td>\n",
              "      <td>4.0</td>\n",
              "    </tr>\n",
              "    <tr>\n",
              "      <th>WorkLifeBalance</th>\n",
              "      <td>4372.0</td>\n",
              "      <td>2.761436</td>\n",
              "      <td>0.706245</td>\n",
              "      <td>1.0</td>\n",
              "      <td>2.00</td>\n",
              "      <td>3.0</td>\n",
              "      <td>3.00</td>\n",
              "      <td>4.0</td>\n",
              "    </tr>\n",
              "    <tr>\n",
              "      <th>JobInvolvement</th>\n",
              "      <td>4410.0</td>\n",
              "      <td>2.729932</td>\n",
              "      <td>0.711400</td>\n",
              "      <td>1.0</td>\n",
              "      <td>2.00</td>\n",
              "      <td>3.0</td>\n",
              "      <td>3.00</td>\n",
              "      <td>4.0</td>\n",
              "    </tr>\n",
              "    <tr>\n",
              "      <th>PerformanceRating</th>\n",
              "      <td>4410.0</td>\n",
              "      <td>3.153741</td>\n",
              "      <td>0.360742</td>\n",
              "      <td>3.0</td>\n",
              "      <td>3.00</td>\n",
              "      <td>3.0</td>\n",
              "      <td>3.00</td>\n",
              "      <td>4.0</td>\n",
              "    </tr>\n",
              "  </tbody>\n",
              "</table>\n",
              "</div>\n",
              "      <button class=\"colab-df-convert\" onclick=\"convertToInteractive('df-646e57bf-88c8-4ccb-8212-255e196d9183')\"\n",
              "              title=\"Convert this dataframe to an interactive table.\"\n",
              "              style=\"display:none;\">\n",
              "        \n",
              "  <svg xmlns=\"http://www.w3.org/2000/svg\" height=\"24px\"viewBox=\"0 0 24 24\"\n",
              "       width=\"24px\">\n",
              "    <path d=\"M0 0h24v24H0V0z\" fill=\"none\"/>\n",
              "    <path d=\"M18.56 5.44l.94 2.06.94-2.06 2.06-.94-2.06-.94-.94-2.06-.94 2.06-2.06.94zm-11 1L8.5 8.5l.94-2.06 2.06-.94-2.06-.94L8.5 2.5l-.94 2.06-2.06.94zm10 10l.94 2.06.94-2.06 2.06-.94-2.06-.94-.94-2.06-.94 2.06-2.06.94z\"/><path d=\"M17.41 7.96l-1.37-1.37c-.4-.4-.92-.59-1.43-.59-.52 0-1.04.2-1.43.59L10.3 9.45l-7.72 7.72c-.78.78-.78 2.05 0 2.83L4 21.41c.39.39.9.59 1.41.59.51 0 1.02-.2 1.41-.59l7.78-7.78 2.81-2.81c.8-.78.8-2.07 0-2.86zM5.41 20L4 18.59l7.72-7.72 1.47 1.35L5.41 20z\"/>\n",
              "  </svg>\n",
              "      </button>\n",
              "      \n",
              "  <style>\n",
              "    .colab-df-container {\n",
              "      display:flex;\n",
              "      flex-wrap:wrap;\n",
              "      gap: 12px;\n",
              "    }\n",
              "\n",
              "    .colab-df-convert {\n",
              "      background-color: #E8F0FE;\n",
              "      border: none;\n",
              "      border-radius: 50%;\n",
              "      cursor: pointer;\n",
              "      display: none;\n",
              "      fill: #1967D2;\n",
              "      height: 32px;\n",
              "      padding: 0 0 0 0;\n",
              "      width: 32px;\n",
              "    }\n",
              "\n",
              "    .colab-df-convert:hover {\n",
              "      background-color: #E2EBFA;\n",
              "      box-shadow: 0px 1px 2px rgba(60, 64, 67, 0.3), 0px 1px 3px 1px rgba(60, 64, 67, 0.15);\n",
              "      fill: #174EA6;\n",
              "    }\n",
              "\n",
              "    [theme=dark] .colab-df-convert {\n",
              "      background-color: #3B4455;\n",
              "      fill: #D2E3FC;\n",
              "    }\n",
              "\n",
              "    [theme=dark] .colab-df-convert:hover {\n",
              "      background-color: #434B5C;\n",
              "      box-shadow: 0px 1px 3px 1px rgba(0, 0, 0, 0.15);\n",
              "      filter: drop-shadow(0px 1px 2px rgba(0, 0, 0, 0.3));\n",
              "      fill: #FFFFFF;\n",
              "    }\n",
              "  </style>\n",
              "\n",
              "      <script>\n",
              "        const buttonEl =\n",
              "          document.querySelector('#df-646e57bf-88c8-4ccb-8212-255e196d9183 button.colab-df-convert');\n",
              "        buttonEl.style.display =\n",
              "          google.colab.kernel.accessAllowed ? 'block' : 'none';\n",
              "\n",
              "        async function convertToInteractive(key) {\n",
              "          const element = document.querySelector('#df-646e57bf-88c8-4ccb-8212-255e196d9183');\n",
              "          const dataTable =\n",
              "            await google.colab.kernel.invokeFunction('convertToInteractive',\n",
              "                                                     [key], {});\n",
              "          if (!dataTable) return;\n",
              "\n",
              "          const docLinkHtml = 'Like what you see? Visit the ' +\n",
              "            '<a target=\"_blank\" href=https://colab.research.google.com/notebooks/data_table.ipynb>data table notebook</a>'\n",
              "            + ' to learn more about interactive tables.';\n",
              "          element.innerHTML = '';\n",
              "          dataTable['output_type'] = 'display_data';\n",
              "          await google.colab.output.renderOutput(dataTable, element);\n",
              "          const docLink = document.createElement('div');\n",
              "          docLink.innerHTML = docLinkHtml;\n",
              "          element.appendChild(docLink);\n",
              "        }\n",
              "      </script>\n",
              "    </div>\n",
              "  </div>\n",
              "  "
            ]
          },
          "metadata": {},
          "execution_count": 17
        }
      ]
    },
    {
      "cell_type": "markdown",
      "source": [
        "#Quick summary over the data collected\n",
        "\n",
        "bla, bla bla"
      ],
      "metadata": {
        "id": "ZXNUMlyaNb8k"
      }
    },
    {
      "cell_type": "markdown",
      "source": [
        "##Checking for values\n",
        "\n",
        "I have the assumption that due to the fact there are the same amount of replies to the data on the variables, there are some variables that are not necessary to be used in the Dataframe. To ensure that, I will now be running a set of checks"
      ],
      "metadata": {
        "id": "Au6NR-TN956Z"
      }
    },
    {
      "cell_type": "code",
      "source": [
        "DataHR.EmployeeCount.unique()"
      ],
      "metadata": {
        "colab": {
          "base_uri": "https://localhost:8080/"
        },
        "id": "cb31qNqV9SYJ",
        "outputId": "a2370e56-36b8-4297-d863-f8b990c20c66"
      },
      "execution_count": null,
      "outputs": [
        {
          "output_type": "execute_result",
          "data": {
            "text/plain": [
              "array([1])"
            ]
          },
          "metadata": {},
          "execution_count": 18
        }
      ]
    },
    {
      "cell_type": "code",
      "source": [
        "DataHR.Over18.unique()"
      ],
      "metadata": {
        "colab": {
          "base_uri": "https://localhost:8080/"
        },
        "id": "916pwEnJ-NaO",
        "outputId": "5a35e6f9-5226-4ac2-9c5f-9dc874babe02"
      },
      "execution_count": null,
      "outputs": [
        {
          "output_type": "execute_result",
          "data": {
            "text/plain": [
              "array(['Y'], dtype=object)"
            ]
          },
          "metadata": {},
          "execution_count": 19
        }
      ]
    },
    {
      "cell_type": "code",
      "source": [
        "DataHR.StandardHours.unique()"
      ],
      "metadata": {
        "colab": {
          "base_uri": "https://localhost:8080/"
        },
        "id": "Wy81Tnen-XsG",
        "outputId": "5d9a0780-2d7f-4732-f1ea-5469271ddd54"
      },
      "execution_count": null,
      "outputs": [
        {
          "output_type": "execute_result",
          "data": {
            "text/plain": [
              "array([8])"
            ]
          },
          "metadata": {},
          "execution_count": 20
        }
      ]
    },
    {
      "cell_type": "code",
      "source": [
        "DataHR.EmployeeID.unique()"
      ],
      "metadata": {
        "colab": {
          "base_uri": "https://localhost:8080/"
        },
        "id": "57fA-sdnB45J",
        "outputId": "163b9f72-7333-49c4-b8ca-995a20384d98"
      },
      "execution_count": null,
      "outputs": [
        {
          "output_type": "execute_result",
          "data": {
            "text/plain": [
              "array([   1,    2,    3, ..., 4408, 4409, 4410])"
            ]
          },
          "metadata": {},
          "execution_count": 21
        }
      ]
    },
    {
      "cell_type": "code",
      "source": [
        "DataHR.MonthlyIncome.value_counts"
      ],
      "metadata": {
        "colab": {
          "base_uri": "https://localhost:8080/"
        },
        "id": "opTq5rTGCY2r",
        "outputId": "c3d81b96-491c-47c6-8159-1aca6740e3ff"
      },
      "execution_count": null,
      "outputs": [
        {
          "output_type": "execute_result",
          "data": {
            "text/plain": [
              "<bound method IndexOpsMixin.value_counts of 0       131160\n",
              "1        41890\n",
              "2       193280\n",
              "3        83210\n",
              "4        23420\n",
              "         ...  \n",
              "4405     60290\n",
              "4406     26790\n",
              "4407     37020\n",
              "4408     23980\n",
              "4409     54680\n",
              "Name: MonthlyIncome, Length: 4410, dtype: int64>"
            ]
          },
          "metadata": {},
          "execution_count": 22
        }
      ]
    },
    {
      "cell_type": "markdown",
      "source": [
        "What we can see is the fact there are no different answers in the three categories, that is they are 4010 employees, all are over 18, and they all work 8 hours. As such, we will now drop those datapoints as they have no impact on the EDA, and overall are irrelevant."
      ],
      "metadata": {
        "id": "nrkpQ0wh-50-"
      }
    },
    {
      "cell_type": "code",
      "source": [
        "DataHR.drop(['EmployeeCount', 'Over18', 'StandardHours'], axis=\"columns\", inplace=True)\n",
        "#Fire in the hole, say bye-bye to those datapoints"
      ],
      "metadata": {
        "id": "YampkcUw_JX_"
      },
      "execution_count": null,
      "outputs": []
    },
    {
      "cell_type": "code",
      "source": [
        "DataHRNew = DataHR.drop_duplicates(subset = ['Age', 'Attrition', 'BusinessTravel', 'Department', 'DistanceFromHome', 'Education', 'EducationField', 'Gender', 'JobLevel', 'JobRole', 'MaritalStatus', 'MonthlyIncome', 'NumCompaniesWorked', 'PercentSalaryHike', 'StockOptionLevel', 'TotalWorkingYears', 'TrainingTimesLastYear', 'YearsAtCompany', 'YearsSinceLastPromotion', 'YearsWithCurrManager'])"
      ],
      "metadata": {
        "id": "iYYLBn61EcFK"
      },
      "execution_count": null,
      "outputs": []
    },
    {
      "cell_type": "code",
      "source": [
        "DataHRNew.shape"
      ],
      "metadata": {
        "colab": {
          "base_uri": "https://localhost:8080/"
        },
        "id": "ZZqBcpdUFKEm",
        "outputId": "f7371c04-27ab-4391-820f-e81c4560da85"
      },
      "execution_count": null,
      "outputs": [
        {
          "output_type": "execute_result",
          "data": {
            "text/plain": [
              "(1498, 26)"
            ]
          },
          "metadata": {},
          "execution_count": 28
        }
      ]
    },
    {
      "cell_type": "code",
      "source": [
        "DataHRNew.info()\n",
        "#And this is how it looks like now"
      ],
      "metadata": {
        "colab": {
          "base_uri": "https://localhost:8080/"
        },
        "id": "Edwn3zH__eus",
        "outputId": "864df203-e06b-42fa-d806-8d5ecfc1a2fa"
      },
      "execution_count": null,
      "outputs": [
        {
          "output_type": "stream",
          "name": "stdout",
          "text": [
            "<class 'pandas.core.frame.DataFrame'>\n",
            "Int64Index: 1498 entries, 0 to 4409\n",
            "Data columns (total 26 columns):\n",
            " #   Column                   Non-Null Count  Dtype  \n",
            "---  ------                   --------------  -----  \n",
            " 0   Age                      1498 non-null   int64  \n",
            " 1   Attrition                1498 non-null   object \n",
            " 2   BusinessTravel           1498 non-null   object \n",
            " 3   Department               1498 non-null   object \n",
            " 4   DistanceFromHome         1498 non-null   int64  \n",
            " 5   Education                1498 non-null   int64  \n",
            " 6   EducationField           1498 non-null   object \n",
            " 7   EmployeeID               1498 non-null   int64  \n",
            " 8   Gender                   1498 non-null   object \n",
            " 9   JobLevel                 1498 non-null   int64  \n",
            " 10  JobRole                  1498 non-null   object \n",
            " 11  MaritalStatus            1498 non-null   object \n",
            " 12  MonthlyIncome            1498 non-null   int64  \n",
            " 13  NumCompaniesWorked       1479 non-null   float64\n",
            " 14  PercentSalaryHike        1498 non-null   int64  \n",
            " 15  StockOptionLevel         1498 non-null   int64  \n",
            " 16  TotalWorkingYears        1489 non-null   float64\n",
            " 17  TrainingTimesLastYear    1498 non-null   int64  \n",
            " 18  YearsAtCompany           1498 non-null   int64  \n",
            " 19  YearsSinceLastPromotion  1498 non-null   int64  \n",
            " 20  YearsWithCurrManager     1498 non-null   int64  \n",
            " 21  EnvironmentSatisfaction  1487 non-null   float64\n",
            " 22  JobSatisfaction          1491 non-null   float64\n",
            " 23  WorkLifeBalance          1485 non-null   float64\n",
            " 24  JobInvolvement           1498 non-null   int64  \n",
            " 25  PerformanceRating        1498 non-null   int64  \n",
            "dtypes: float64(5), int64(14), object(7)\n",
            "memory usage: 316.0+ KB\n"
          ]
        }
      ]
    },
    {
      "cell_type": "markdown",
      "source": [
        "## Extra EDA part - Correlated variables contributing to attrition\n",
        "\n",
        "As attrition is a problem for any workplace we will now create a heatmap over the correlated values that is contributing to the attrition rate at the company. This is done so we can get a overview of what variables has the biggest impact to attrition rate."
      ],
      "metadata": {
        "id": "brTnrZh2NzHv"
      }
    },
    {
      "cell_type": "code",
      "source": [
        "DataHRNew.head()\n",
        "#First of all, we are going to make a quick .head command to check out our current Dataframe, and it looks fine"
      ],
      "metadata": {
        "colab": {
          "base_uri": "https://localhost:8080/",
          "height": 369
        },
        "id": "uCsL-PkMSM8U",
        "outputId": "a390879a-5c6a-4ec7-9636-04a6357ac2f0"
      },
      "execution_count": null,
      "outputs": [
        {
          "output_type": "execute_result",
          "data": {
            "text/plain": [
              "   Age Attrition     BusinessTravel              Department  DistanceFromHome  \\\n",
              "0   51        No      Travel_Rarely                   Sales                 6   \n",
              "1   31       Yes  Travel_Frequently  Research & Development                10   \n",
              "2   32        No  Travel_Frequently  Research & Development                17   \n",
              "3   38        No         Non-Travel  Research & Development                 2   \n",
              "4   32        No      Travel_Rarely  Research & Development                10   \n",
              "\n",
              "   Education EducationField  EmployeeID  Gender  JobLevel  ...  \\\n",
              "0          2  Life Sciences           1  Female         1  ...   \n",
              "1          1  Life Sciences           2  Female         1  ...   \n",
              "2          4          Other           3    Male         4  ...   \n",
              "3          5  Life Sciences           4    Male         3  ...   \n",
              "4          1        Medical           5    Male         1  ...   \n",
              "\n",
              "  TotalWorkingYears TrainingTimesLastYear  YearsAtCompany  \\\n",
              "0               1.0                     6               1   \n",
              "1               6.0                     3               5   \n",
              "2               5.0                     2               5   \n",
              "3              13.0                     5               8   \n",
              "4               9.0                     2               6   \n",
              "\n",
              "   YearsSinceLastPromotion  YearsWithCurrManager  EnvironmentSatisfaction  \\\n",
              "0                        0                     0                      3.0   \n",
              "1                        1                     4                      3.0   \n",
              "2                        0                     3                      2.0   \n",
              "3                        7                     5                      4.0   \n",
              "4                        0                     4                      4.0   \n",
              "\n",
              "   JobSatisfaction  WorkLifeBalance  JobInvolvement  PerformanceRating  \n",
              "0              4.0              2.0               3                  3  \n",
              "1              2.0              4.0               2                  4  \n",
              "2              2.0              1.0               3                  3  \n",
              "3              4.0              3.0               2                  3  \n",
              "4              1.0              3.0               3                  3  \n",
              "\n",
              "[5 rows x 26 columns]"
            ],
            "text/html": [
              "\n",
              "  <div id=\"df-d5992a1f-3549-4667-b895-94c35fcb4872\">\n",
              "    <div class=\"colab-df-container\">\n",
              "      <div>\n",
              "<style scoped>\n",
              "    .dataframe tbody tr th:only-of-type {\n",
              "        vertical-align: middle;\n",
              "    }\n",
              "\n",
              "    .dataframe tbody tr th {\n",
              "        vertical-align: top;\n",
              "    }\n",
              "\n",
              "    .dataframe thead th {\n",
              "        text-align: right;\n",
              "    }\n",
              "</style>\n",
              "<table border=\"1\" class=\"dataframe\">\n",
              "  <thead>\n",
              "    <tr style=\"text-align: right;\">\n",
              "      <th></th>\n",
              "      <th>Age</th>\n",
              "      <th>Attrition</th>\n",
              "      <th>BusinessTravel</th>\n",
              "      <th>Department</th>\n",
              "      <th>DistanceFromHome</th>\n",
              "      <th>Education</th>\n",
              "      <th>EducationField</th>\n",
              "      <th>EmployeeID</th>\n",
              "      <th>Gender</th>\n",
              "      <th>JobLevel</th>\n",
              "      <th>...</th>\n",
              "      <th>TotalWorkingYears</th>\n",
              "      <th>TrainingTimesLastYear</th>\n",
              "      <th>YearsAtCompany</th>\n",
              "      <th>YearsSinceLastPromotion</th>\n",
              "      <th>YearsWithCurrManager</th>\n",
              "      <th>EnvironmentSatisfaction</th>\n",
              "      <th>JobSatisfaction</th>\n",
              "      <th>WorkLifeBalance</th>\n",
              "      <th>JobInvolvement</th>\n",
              "      <th>PerformanceRating</th>\n",
              "    </tr>\n",
              "  </thead>\n",
              "  <tbody>\n",
              "    <tr>\n",
              "      <th>0</th>\n",
              "      <td>51</td>\n",
              "      <td>No</td>\n",
              "      <td>Travel_Rarely</td>\n",
              "      <td>Sales</td>\n",
              "      <td>6</td>\n",
              "      <td>2</td>\n",
              "      <td>Life Sciences</td>\n",
              "      <td>1</td>\n",
              "      <td>Female</td>\n",
              "      <td>1</td>\n",
              "      <td>...</td>\n",
              "      <td>1.0</td>\n",
              "      <td>6</td>\n",
              "      <td>1</td>\n",
              "      <td>0</td>\n",
              "      <td>0</td>\n",
              "      <td>3.0</td>\n",
              "      <td>4.0</td>\n",
              "      <td>2.0</td>\n",
              "      <td>3</td>\n",
              "      <td>3</td>\n",
              "    </tr>\n",
              "    <tr>\n",
              "      <th>1</th>\n",
              "      <td>31</td>\n",
              "      <td>Yes</td>\n",
              "      <td>Travel_Frequently</td>\n",
              "      <td>Research &amp; Development</td>\n",
              "      <td>10</td>\n",
              "      <td>1</td>\n",
              "      <td>Life Sciences</td>\n",
              "      <td>2</td>\n",
              "      <td>Female</td>\n",
              "      <td>1</td>\n",
              "      <td>...</td>\n",
              "      <td>6.0</td>\n",
              "      <td>3</td>\n",
              "      <td>5</td>\n",
              "      <td>1</td>\n",
              "      <td>4</td>\n",
              "      <td>3.0</td>\n",
              "      <td>2.0</td>\n",
              "      <td>4.0</td>\n",
              "      <td>2</td>\n",
              "      <td>4</td>\n",
              "    </tr>\n",
              "    <tr>\n",
              "      <th>2</th>\n",
              "      <td>32</td>\n",
              "      <td>No</td>\n",
              "      <td>Travel_Frequently</td>\n",
              "      <td>Research &amp; Development</td>\n",
              "      <td>17</td>\n",
              "      <td>4</td>\n",
              "      <td>Other</td>\n",
              "      <td>3</td>\n",
              "      <td>Male</td>\n",
              "      <td>4</td>\n",
              "      <td>...</td>\n",
              "      <td>5.0</td>\n",
              "      <td>2</td>\n",
              "      <td>5</td>\n",
              "      <td>0</td>\n",
              "      <td>3</td>\n",
              "      <td>2.0</td>\n",
              "      <td>2.0</td>\n",
              "      <td>1.0</td>\n",
              "      <td>3</td>\n",
              "      <td>3</td>\n",
              "    </tr>\n",
              "    <tr>\n",
              "      <th>3</th>\n",
              "      <td>38</td>\n",
              "      <td>No</td>\n",
              "      <td>Non-Travel</td>\n",
              "      <td>Research &amp; Development</td>\n",
              "      <td>2</td>\n",
              "      <td>5</td>\n",
              "      <td>Life Sciences</td>\n",
              "      <td>4</td>\n",
              "      <td>Male</td>\n",
              "      <td>3</td>\n",
              "      <td>...</td>\n",
              "      <td>13.0</td>\n",
              "      <td>5</td>\n",
              "      <td>8</td>\n",
              "      <td>7</td>\n",
              "      <td>5</td>\n",
              "      <td>4.0</td>\n",
              "      <td>4.0</td>\n",
              "      <td>3.0</td>\n",
              "      <td>2</td>\n",
              "      <td>3</td>\n",
              "    </tr>\n",
              "    <tr>\n",
              "      <th>4</th>\n",
              "      <td>32</td>\n",
              "      <td>No</td>\n",
              "      <td>Travel_Rarely</td>\n",
              "      <td>Research &amp; Development</td>\n",
              "      <td>10</td>\n",
              "      <td>1</td>\n",
              "      <td>Medical</td>\n",
              "      <td>5</td>\n",
              "      <td>Male</td>\n",
              "      <td>1</td>\n",
              "      <td>...</td>\n",
              "      <td>9.0</td>\n",
              "      <td>2</td>\n",
              "      <td>6</td>\n",
              "      <td>0</td>\n",
              "      <td>4</td>\n",
              "      <td>4.0</td>\n",
              "      <td>1.0</td>\n",
              "      <td>3.0</td>\n",
              "      <td>3</td>\n",
              "      <td>3</td>\n",
              "    </tr>\n",
              "  </tbody>\n",
              "</table>\n",
              "<p>5 rows × 26 columns</p>\n",
              "</div>\n",
              "      <button class=\"colab-df-convert\" onclick=\"convertToInteractive('df-d5992a1f-3549-4667-b895-94c35fcb4872')\"\n",
              "              title=\"Convert this dataframe to an interactive table.\"\n",
              "              style=\"display:none;\">\n",
              "        \n",
              "  <svg xmlns=\"http://www.w3.org/2000/svg\" height=\"24px\"viewBox=\"0 0 24 24\"\n",
              "       width=\"24px\">\n",
              "    <path d=\"M0 0h24v24H0V0z\" fill=\"none\"/>\n",
              "    <path d=\"M18.56 5.44l.94 2.06.94-2.06 2.06-.94-2.06-.94-.94-2.06-.94 2.06-2.06.94zm-11 1L8.5 8.5l.94-2.06 2.06-.94-2.06-.94L8.5 2.5l-.94 2.06-2.06.94zm10 10l.94 2.06.94-2.06 2.06-.94-2.06-.94-.94-2.06-.94 2.06-2.06.94z\"/><path d=\"M17.41 7.96l-1.37-1.37c-.4-.4-.92-.59-1.43-.59-.52 0-1.04.2-1.43.59L10.3 9.45l-7.72 7.72c-.78.78-.78 2.05 0 2.83L4 21.41c.39.39.9.59 1.41.59.51 0 1.02-.2 1.41-.59l7.78-7.78 2.81-2.81c.8-.78.8-2.07 0-2.86zM5.41 20L4 18.59l7.72-7.72 1.47 1.35L5.41 20z\"/>\n",
              "  </svg>\n",
              "      </button>\n",
              "      \n",
              "  <style>\n",
              "    .colab-df-container {\n",
              "      display:flex;\n",
              "      flex-wrap:wrap;\n",
              "      gap: 12px;\n",
              "    }\n",
              "\n",
              "    .colab-df-convert {\n",
              "      background-color: #E8F0FE;\n",
              "      border: none;\n",
              "      border-radius: 50%;\n",
              "      cursor: pointer;\n",
              "      display: none;\n",
              "      fill: #1967D2;\n",
              "      height: 32px;\n",
              "      padding: 0 0 0 0;\n",
              "      width: 32px;\n",
              "    }\n",
              "\n",
              "    .colab-df-convert:hover {\n",
              "      background-color: #E2EBFA;\n",
              "      box-shadow: 0px 1px 2px rgba(60, 64, 67, 0.3), 0px 1px 3px 1px rgba(60, 64, 67, 0.15);\n",
              "      fill: #174EA6;\n",
              "    }\n",
              "\n",
              "    [theme=dark] .colab-df-convert {\n",
              "      background-color: #3B4455;\n",
              "      fill: #D2E3FC;\n",
              "    }\n",
              "\n",
              "    [theme=dark] .colab-df-convert:hover {\n",
              "      background-color: #434B5C;\n",
              "      box-shadow: 0px 1px 3px 1px rgba(0, 0, 0, 0.15);\n",
              "      filter: drop-shadow(0px 1px 2px rgba(0, 0, 0, 0.3));\n",
              "      fill: #FFFFFF;\n",
              "    }\n",
              "  </style>\n",
              "\n",
              "      <script>\n",
              "        const buttonEl =\n",
              "          document.querySelector('#df-d5992a1f-3549-4667-b895-94c35fcb4872 button.colab-df-convert');\n",
              "        buttonEl.style.display =\n",
              "          google.colab.kernel.accessAllowed ? 'block' : 'none';\n",
              "\n",
              "        async function convertToInteractive(key) {\n",
              "          const element = document.querySelector('#df-d5992a1f-3549-4667-b895-94c35fcb4872');\n",
              "          const dataTable =\n",
              "            await google.colab.kernel.invokeFunction('convertToInteractive',\n",
              "                                                     [key], {});\n",
              "          if (!dataTable) return;\n",
              "\n",
              "          const docLinkHtml = 'Like what you see? Visit the ' +\n",
              "            '<a target=\"_blank\" href=https://colab.research.google.com/notebooks/data_table.ipynb>data table notebook</a>'\n",
              "            + ' to learn more about interactive tables.';\n",
              "          element.innerHTML = '';\n",
              "          dataTable['output_type'] = 'display_data';\n",
              "          await google.colab.output.renderOutput(dataTable, element);\n",
              "          const docLink = document.createElement('div');\n",
              "          docLink.innerHTML = docLinkHtml;\n",
              "          element.appendChild(docLink);\n",
              "        }\n",
              "      </script>\n",
              "    </div>\n",
              "  </div>\n",
              "  "
            ]
          },
          "metadata": {},
          "execution_count": 30
        }
      ]
    },
    {
      "cell_type": "code",
      "source": [
        "df = DataHRNew.copy()\n",
        "#We are making a copy of the DataHRNew to start calculating out the correlated values, and encoding them."
      ],
      "metadata": {
        "id": "hMOGY20HftaF"
      },
      "execution_count": null,
      "outputs": []
    },
    {
      "cell_type": "code",
      "source": [
        "Attrition_le = LabelEncoder()\n",
        "BusinessTravel_le = LabelEncoder()\n",
        "Department_le = LabelEncoder()\n",
        "EducationField_le = LabelEncoder()\n",
        "Gender_le = LabelEncoder()\n",
        "JobRole_le = LabelEncoder()\n",
        "MaritalStatus_le = LabelEncoder()\n",
        "Over18_le = LabelEncoder()\n",
        "OverTime_le = LabelEncoder()\n",
        "#This is encoding the variables for the purposes of implementing them into a fit_transform command"
      ],
      "metadata": {
        "id": "3WbMXuzafyQz"
      },
      "execution_count": null,
      "outputs": []
    },
    {
      "cell_type": "code",
      "source": [
        "df['Attrition'] = Attrition_le.fit_transform(df['Attrition'])\n",
        "df['BusinessTravel'] = BusinessTravel_le.fit_transform(df['BusinessTravel'])\n",
        "df['Department'] = Department_le.fit_transform(df['Department'])\n",
        "df['EducationField'] = EducationField_le.fit_transform(df['EducationField'])\n",
        "df['Gender'] = Gender_le.fit_transform(df['Gender'])\n",
        "df['JobRole'] = JobRole_le.fit_transform(df['JobRole'])\n",
        "df['MaritalStatus'] = MaritalStatus_le.fit_transform(df['MaritalStatus'])\n",
        "#And here we go."
      ],
      "metadata": {
        "id": "w3oRw3Vef4T7"
      },
      "execution_count": null,
      "outputs": []
    },
    {
      "cell_type": "code",
      "source": [
        "plt.figure(figsize = (16 ,12))\n",
        "sns.heatmap(df.corr() ,cmap = 'ocean' , cbar = True , annot = True)\n",
        "#Using seabon we will now create a heatmap over the encoded values, and setting the size, annotations and putting it below."
      ],
      "metadata": {
        "colab": {
          "base_uri": "https://localhost:8080/",
          "height": 836
        },
        "id": "6bAgv5tvgAci",
        "outputId": "142ab974-2873-4270-a58d-da803cef8c0d"
      },
      "execution_count": null,
      "outputs": [
        {
          "output_type": "execute_result",
          "data": {
            "text/plain": [
              "<matplotlib.axes._subplots.AxesSubplot at 0x7fb1dab48b10>"
            ]
          },
          "metadata": {},
          "execution_count": 105
        },
        {
          "output_type": "display_data",
          "data": {
            "text/plain": [
              "<Figure size 1152x864 with 2 Axes>"
            ],
            "image/png": "[encoded data removed]"
          },
          "metadata": {
            "needs_background": "light"
          }
        }
      ]
    },
    {
      "cell_type": "markdown",
      "source": [
        "Ah, so the more blue the boxes, the more it contributes to the attrition rate. As seen, there are a few different categories which has a correlating factor to each together, such as age and working years, and Percentsalary hike and performance rating."
      ],
      "metadata": {
        "id": "rVYhBLoChqwH"
      }
    },
    {
      "cell_type": "code",
      "source": [
        "round(abs(df.corr()['Attrition']*100).sort_values(ascending=False), 2)\n",
        "#As we want to focus on looking at the correlated values relating to attrition rate, we will now make a corr. command targetting the variable. Result will be seen below in procentage"
      ],
      "metadata": {
        "colab": {
          "base_uri": "https://localhost:8080/"
        },
        "id": "4a5nwX1SgHcz",
        "outputId": "7e08b6d9-81e2-40ff-a3a0-97e74d042ed4"
      },
      "execution_count": null,
      "outputs": [
        {
          "output_type": "execute_result",
          "data": {
            "text/plain": [
              "Attrition                  100.00\n",
              "TotalWorkingYears           16.99\n",
              "MaritalStatus               16.51\n",
              "YearsWithCurrManager        15.66\n",
              "Age                         15.62\n",
              "YearsAtCompany              13.63\n",
              "JobSatisfaction             10.49\n",
              "EnvironmentSatisfaction     10.39\n",
              "WorkLifeBalance              6.14\n",
              "EducationField               5.38\n",
              "TrainingTimesLastYear        4.89\n",
              "NumCompaniesWorked           4.82\n",
              "Department                   4.55\n",
              "MonthlyIncome                3.84\n",
              "PercentSalaryHike            3.61\n",
              "YearsSinceLastPromotion      2.92\n",
              "PerformanceRating            2.74\n",
              "JobRole                      2.50\n",
              "Gender                       1.97\n",
              "JobLevel                     1.61\n",
              "Education                    1.42\n",
              "JobInvolvement               1.38\n",
              "StockOptionLevel             0.66\n",
              "EmployeeID                   0.58\n",
              "DistanceFromHome             0.49\n",
              "BusinessTravel               0.38\n",
              "Name: Attrition, dtype: float64"
            ]
          },
          "metadata": {},
          "execution_count": 101
        }
      ]
    },
    {
      "cell_type": "markdown",
      "source": [
        "## Supervised machine learning"
      ],
      "metadata": {
        "id": "TEHPwIqoiSXa"
      }
    },
    {
      "cell_type": "markdown",
      "source": [
        "We will now begin with the tough stuff, namely programming supervised machine learning, more specifically random tree, etc. \n",
        "This is the real deal.\n",
        "\n",
        "![Strong.jpg](data:image/jpeg;base64,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)"
      ],
      "metadata": {
        "id": "mM7vG0xVjmJL"
      }
    },
    {
      "cell_type": "markdown",
      "source": [
        "In this supervised machine learning, we will be utilizing three points of measurement:\n",
        "\n",
        "\n",
        "1.   Logistic regression\n",
        "2.   Random forrest classifier\n",
        "3.   Decision tree classifier\n",
        "\n",
        "Using these three measurements, we will make the foundation if we can accurately predict, or not according to the accumulated data gathered"
      ],
      "metadata": {
        "id": "ZXvR4VpdnOvM"
      }
    },
    {
      "cell_type": "code",
      "source": [
        "x = df.drop('Attrition' ,axis =1)\n",
        "y = df['Attrition']\n",
        "\n",
        "print(x.shape ,y.shape)"
      ],
      "metadata": {
        "colab": {
          "base_uri": "https://localhost:8080/"
        },
        "id": "uDmcZkkZlI9e",
        "outputId": "70b28fa7-0c5d-49b0-9c52-f2ddb118d36e"
      },
      "execution_count": null,
      "outputs": [
        {
          "output_type": "stream",
          "name": "stdout",
          "text": [
            "(1498, 25) (1498,)\n"
          ]
        }
      ]
    },
    {
      "cell_type": "code",
      "source": [
        "df.Attrition.value_counts()"
      ],
      "metadata": {
        "id": "rXlFGXQgDlto",
        "outputId": "58673139-5a7c-44b2-a0c7-1c6d8e1a49be",
        "colab": {
          "base_uri": "https://localhost:8080/",
          "height": 165
        }
      },
      "execution_count": null,
      "outputs": [
        {
          "output_type": "error",
          "ename": "NameError",
          "evalue": "ignored",
          "traceback": [
            "\u001b[0;31m---------------------------------------------------------------------------\u001b[0m",
            "\u001b[0;31mNameError\u001b[0m                                 Traceback (most recent call last)",
            "\u001b[0;32m<ipython-input-2-34cb70e99811>\u001b[0m in \u001b[0;36m<module>\u001b[0;34m\u001b[0m\n\u001b[0;32m----> 1\u001b[0;31m \u001b[0mdf\u001b[0m\u001b[0;34m.\u001b[0m\u001b[0mAttrition\u001b[0m\u001b[0;34m.\u001b[0m\u001b[0mvalue_counts\u001b[0m\u001b[0;34m(\u001b[0m\u001b[0;34m)\u001b[0m\u001b[0;34m\u001b[0m\u001b[0;34m\u001b[0m\u001b[0m\n\u001b[0m",
            "\u001b[0;31mNameError\u001b[0m: name 'df' is not defined"
          ]
        }
      ]
    },
    {
      "cell_type": "code",
      "source": [
        "x_train , x_test , y_train ,y_test = train_test_split(x , y, test_size=0.2 , random_state= 52)\n",
        "print(x_train.shape)\n",
        "#After we select our sample size we will now define our machine learning target to be at 80%, therefore we will lose 20% of the overall sample population from \"DataHRNew\"\n",
        "#This leads us to arrive at a new sample size for the machine learning, which as 1152"
      ],
      "metadata": {
        "colab": {
          "base_uri": "https://localhost:8080/"
        },
        "id": "Pggj_crWk_nW",
        "outputId": "ea35ac5e-c75a-4372-e45a-e3dbd50607a4"
      },
      "execution_count": null,
      "outputs": [
        {
          "output_type": "stream",
          "name": "stdout",
          "text": [
            "(1152, 25)\n"
          ]
        }
      ]
    },
    {
      "cell_type": "code",
      "source": [
        "#scaling the data \n",
        "sc = StandardScaler()\n",
        "x_train = sc.fit_transform(x_train)\n",
        "x_test = sc.transform(x_test)\n",
        "\n",
        "\n",
        "x_train"
      ],
      "metadata": {
        "colab": {
          "base_uri": "https://localhost:8080/"
        },
        "id": "iNWtD2_yl6Zw",
        "outputId": "1ed8a268-0ea9-48fc-9fd2-97260a65a9f2"
      },
      "execution_count": null,
      "outputs": [
        {
          "output_type": "execute_result",
          "data": {
            "text/plain": [
              "array([[-0.20221254,  0.58572966,  1.37274905, ..., -2.48949962,\n",
              "        -0.97986371, -0.42891387],\n",
              "       [-0.20221254,  0.58572966, -0.50540642, ...,  0.34159965,\n",
              "        -2.36320071, -0.42891387],\n",
              "       [-1.64085148,  0.58572966, -0.50540642, ...,  0.34159965,\n",
              "        -0.97986371, -0.42891387],\n",
              "       ...,\n",
              "       [ 0.35111013,  0.58572966,  1.37274905, ...,  0.34159965,\n",
              "        -0.97986371, -0.42891387],\n",
              "       [-0.86619974,  0.58572966,  1.37274905, ...,  0.34159965,\n",
              "         0.40347329, -0.42891387],\n",
              "       [ 1.12576187,  0.58572966, -0.50540642, ...,  0.34159965,\n",
              "         0.40347329, -0.42891387]])"
            ]
          },
          "metadata": {},
          "execution_count": 114
        }
      ]
    },
    {
      "cell_type": "code",
      "source": [
        "k = KFold(n_splits = 5)"
      ],
      "metadata": {
        "id": "un4KdYeSl_OX"
      },
      "execution_count": null,
      "outputs": []
    },
    {
      "cell_type": "code",
      "source": [
        "lr_model = LogisticRegression()\n",
        "lr_score = cross_val_score(lr_model , x_train , y_train ,cv = k ,scoring = 'neg_mean_squared_error')\n",
        "lr_score.mean()"
      ],
      "metadata": {
        "colab": {
          "base_uri": "https://localhost:8080/"
        },
        "id": "-HOcehG2mBPL",
        "outputId": "4c8dab66-fb12-45f3-e25d-6d442a22c11e"
      },
      "execution_count": null,
      "outputs": [
        {
          "output_type": "execute_result",
          "data": {
            "text/plain": [
              "-0.16578580839450405"
            ]
          },
          "metadata": {},
          "execution_count": 116
        }
      ]
    },
    {
      "cell_type": "code",
      "source": [
        "rf_model = RandomForestClassifier()\n",
        "rf_score = cross_val_score(rf_model , x_train , y_train ,cv = k ,scoring = 'neg_mean_squared_error')\n",
        "rf_score.mean()"
      ],
      "metadata": {
        "colab": {
          "base_uri": "https://localhost:8080/"
        },
        "id": "BUnjLT3SmD1g",
        "outputId": "e9185259-aacf-4056-a0ce-becc077595a3"
      },
      "execution_count": null,
      "outputs": [
        {
          "output_type": "execute_result",
          "data": {
            "text/plain": [
              "-0.16751364577451533"
            ]
          },
          "metadata": {},
          "execution_count": 119
        }
      ]
    },
    {
      "cell_type": "code",
      "source": [
        "dt_model = DecisionTreeClassifier()\n",
        "dt_score = cross_val_score(dt_model , x_train , y_train ,cv = k ,scoring = 'neg_mean_squared_error')\n",
        "dt_score.mean()"
      ],
      "metadata": {
        "colab": {
          "base_uri": "https://localhost:8080/"
        },
        "id": "ng2-8RmQm5pT",
        "outputId": "4fed2fa7-a188-4e45-df70-61fbe45d097c"
      },
      "execution_count": null,
      "outputs": [
        {
          "output_type": "execute_result",
          "data": {
            "text/plain": [
              "-0.2578016186711839"
            ]
          },
          "metadata": {},
          "execution_count": 124
        }
      ]
    },
    {
      "cell_type": "code",
      "source": [
        "plt.figure(figsize = (14 , 6))\n",
        "plt.subplot(1,2,1)\n",
        "x = ['Logistic Regression','Random Forest' ,'Decision Tree']\n",
        "y = [lr_score.mean() , rf_score.mean() , dt_score.mean()]\n",
        "plt.title('Neg Mean square error for Models')\n",
        "sns.barplot(y,x,palette=\"viridis\")\n",
        "\n",
        "plt.subplot(1,2,2)\n",
        "plt.plot(x ,y,marker = 'o' ,color = 'r',mfc ='b' ,ms =8 )\n",
        "plt.title('Neg Mean square error')"
      ],
      "metadata": {
        "colab": {
          "base_uri": "https://localhost:8080/",
          "height": 462
        },
        "id": "7SjekVf_mjKS",
        "outputId": "941ac0f3-6d38-4a76-978d-2c156f5dd51c"
      },
      "execution_count": null,
      "outputs": [
        {
          "output_type": "stream",
          "name": "stderr",
          "text": [
            "/usr/local/lib/python3.7/dist-packages/seaborn/_decorators.py:43: FutureWarning: Pass the following variables as keyword args: x, y. From version 0.12, the only valid positional argument will be `data`, and passing other arguments without an explicit keyword will result in an error or misinterpretation.\n",
            "  FutureWarning\n"
          ]
        },
        {
          "output_type": "execute_result",
          "data": {
            "text/plain": [
              "Text(0.5, 1.0, 'Neg Mean square error')"
            ]
          },
          "metadata": {},
          "execution_count": 125
        },
        {
          "output_type": "display_data",
          "data": {
            "text/plain": [
              "<Figure size 1008x432 with 2 Axes>"
            ],
            "image/png": "[encoded data removed]"
          },
          "metadata": {
            "needs_background": "light"
          }
        }
      ]
    },
    {
      "cell_type": "code",
      "source": [
        "model_params ={\n",
        "    'RandomForestClassifier':\n",
        "    {\n",
        "        'model':RandomForestClassifier(),\n",
        "        'param':\n",
        "        {\n",
        "         'n_estimators':[10 ,50 ,100,130],\n",
        "         'criterion':['gini' ,'entropy'],\n",
        "         'max_depth':range(4,8,1),\n",
        "         'max_features':['auto' ,'log2']\n",
        "        }\n",
        "    },\n",
        "    'SVC':\n",
        "    {\n",
        "        'model':SVC(),\n",
        "        'param':\n",
        "        {\n",
        "            'C':[1,20],\n",
        "            'gamma':[1,0.1],\n",
        "            'kernel':['rbf']     \n",
        "        }\n",
        "    }\n",
        "}"
      ],
      "metadata": {
        "id": "zr7aqXsjn9Nb"
      },
      "execution_count": null,
      "outputs": []
    },
    {
      "cell_type": "code",
      "source": [
        "scores =[]\n",
        "for model_name , mp in model_params.items():\n",
        "    model_sel = GridSearchCV(estimator= mp['model'] ,param_grid= mp['param'] ,cv = 4 ,return_train_score=False)\n",
        "    model_sel.fit(x_train,y_train)\n",
        "    \n",
        "    scores.append({\n",
        "        'model':model_name,\n",
        "        'best_score':model_sel.best_score_,\n",
        "        'best_params':model_sel.best_params_\n",
        "    })"
      ],
      "metadata": {
        "id": "KT8kcU3MoAwj"
      },
      "execution_count": null,
      "outputs": []
    },
    {
      "cell_type": "code",
      "source": [
        "scores"
      ],
      "metadata": {
        "colab": {
          "base_uri": "https://localhost:8080/"
        },
        "id": "STsNm0DdoO_q",
        "outputId": "62e77497-fb99-4ccd-e24c-7320d2d4bfd4"
      },
      "execution_count": null,
      "outputs": [
        {
          "output_type": "execute_result",
          "data": {
            "text/plain": [
              "[{'model': 'RandomForestClassifier',\n",
              "  'best_score': 0.8368055555555556,\n",
              "  'best_params': {'criterion': 'entropy',\n",
              "   'max_depth': 5,\n",
              "   'max_features': 'auto',\n",
              "   'n_estimators': 10}},\n",
              " {'model': 'SVC',\n",
              "  'best_score': 0.8350694444444444,\n",
              "  'best_params': {'C': 20, 'gamma': 0.1, 'kernel': 'rbf'}}]"
            ]
          },
          "metadata": {},
          "execution_count": 128
        }
      ]
    },
    {
      "cell_type": "markdown",
      "source": [
        "As seen, the most accurate model is the RandomForestClassifier with a 83.6% accuracy, in comparison to the 83.5% score from the SVC"
      ],
      "metadata": {
        "id": "GsJBi4tiofwE"
      }
    },
    {
      "cell_type": "code",
      "source": [
        "rf_model = SVC(C=20 ,gamma=0.1 ,kernel='rbf')\n",
        "rf_model.fit(x_train ,y_train)\n",
        "ytest_pred = rf_model.predict(x_test)\n",
        "ytrain_pred = rf_model.predict(x_train)\n",
        "accuracy_score(y_test ,ytest_pred)"
      ],
      "metadata": {
        "colab": {
          "base_uri": "https://localhost:8080/"
        },
        "id": "fn4vKuA6os0S",
        "outputId": "f75f18a1-3d27-4476-9ff4-8a6faa13dd01"
      },
      "execution_count": null,
      "outputs": [
        {
          "output_type": "execute_result",
          "data": {
            "text/plain": [
              "0.8680555555555556"
            ]
          },
          "metadata": {},
          "execution_count": 130
        }
      ]
    },
    {
      "cell_type": "code",
      "source": [
        "print(classification_report(y_test , ytest_pred))"
      ],
      "metadata": {
        "colab": {
          "base_uri": "https://localhost:8080/"
        },
        "id": "3mCQWTitpAGS",
        "outputId": "1e3e3939-ce8a-48d5-93e4-2e9546297901"
      },
      "execution_count": null,
      "outputs": [
        {
          "output_type": "stream",
          "name": "stdout",
          "text": [
            "              precision    recall  f1-score   support\n",
            "\n",
            "           0       0.89      0.97      0.93       251\n",
            "           1       0.47      0.19      0.27        37\n",
            "\n",
            "    accuracy                           0.87       288\n",
            "   macro avg       0.68      0.58      0.60       288\n",
            "weighted avg       0.84      0.87      0.84       288\n",
            "\n"
          ]
        }
      ]
    },
    {
      "cell_type": "code",
      "source": [
        "print(classification_report(y_train , ytrain_pred))"
      ],
      "metadata": {
        "colab": {
          "base_uri": "https://localhost:8080/"
        },
        "id": "jol-VhgOpHOq",
        "outputId": "4c8af3a6-3dff-4e87-ee46-ebefe7e0a4d3"
      },
      "execution_count": null,
      "outputs": [
        {
          "output_type": "stream",
          "name": "stdout",
          "text": [
            "              precision    recall  f1-score   support\n",
            "\n",
            "           0       1.00      1.00      1.00       957\n",
            "           1       1.00      1.00      1.00       195\n",
            "\n",
            "    accuracy                           1.00      1152\n",
            "   macro avg       1.00      1.00      1.00      1152\n",
            "weighted avg       1.00      1.00      1.00      1152\n",
            "\n"
          ]
        }
      ]
    },
    {
      "cell_type": "markdown",
      "source": [
        "## Determinating the most signifiance variables, based on supervised machine learning results"
      ],
      "metadata": {
        "id": "9itQpBKwpNIS"
      }
    },
    {
      "cell_type": "code",
      "source": [
        "from sklearn.inspection import permutation_importance\n",
        "perm_importance = permutation_importance(rf_model, x_test, y_test)"
      ],
      "metadata": {
        "id": "LU2prOlfpgHR"
      },
      "execution_count": null,
      "outputs": []
    },
    {
      "cell_type": "code",
      "source": [
        "perm_importance"
      ],
      "metadata": {
        "colab": {
          "base_uri": "https://localhost:8080/"
        },
        "id": "AbzNiP6gpoSc",
        "outputId": "014f5a31-4067-448b-a8c8-c08aaf1b366b"
      },
      "execution_count": null,
      "outputs": [
        {
          "output_type": "execute_result",
          "data": {
            "text/plain": [
              "{'importances_mean': array([ 8.33333333e-03, -1.38888889e-03, -5.55555556e-03,  8.33333333e-03,\n",
              "         4.16666667e-03,  4.16666667e-03,  2.77777778e-03,  4.16666667e-03,\n",
              "        -6.94444444e-04,  2.08333333e-03,  2.77777778e-03, -1.38888889e-03,\n",
              "        -2.77777778e-03, -3.47222222e-03, -1.38888889e-03,  2.22044605e-17,\n",
              "        -1.38888889e-03, -6.94444444e-04, -6.94444444e-04,  5.55555556e-03,\n",
              "        -6.25000000e-03,  9.02777778e-03, -9.02777778e-03, -6.94444444e-04,\n",
              "        -8.33333333e-03]),\n",
              " 'importances_std': array([0.00894729, 0.00680414, 0.00644001, 0.00470995, 0.00460642,\n",
              "        0.0051031 , 0.00673289, 0.00555556, 0.00259837, 0.00714974,\n",
              "        0.00597384, 0.00170103, 0.00833333, 0.00310565, 0.00564169,\n",
              "        0.0087841 , 0.00470995, 0.00404927, 0.00803878, 0.00354099,\n",
              "        0.0051031 , 0.00564169, 0.00564169, 0.00259837, 0.00354099]),\n",
              " 'importances': array([[ 0.00347222,  0.02083333,  0.        ,  0.01736111,  0.        ],\n",
              "        [-0.00347222, -0.01041667,  0.01041667,  0.        , -0.00347222],\n",
              "        [-0.01041667, -0.00694444,  0.        ,  0.00347222, -0.01388889],\n",
              "        [ 0.01041667,  0.01388889,  0.01041667,  0.        ,  0.00694444],\n",
              "        [ 0.01041667,  0.00694444,  0.00347222, -0.00347222,  0.00347222],\n",
              "        [ 0.01041667,  0.00694444,  0.        ,  0.00694444, -0.00347222],\n",
              "        [-0.00347222,  0.00694444,  0.        , -0.00347222,  0.01388889],\n",
              "        [ 0.01041667,  0.00347222,  0.01041667, -0.00347222,  0.        ],\n",
              "        [-0.00347222, -0.00347222,  0.00347222,  0.        ,  0.        ],\n",
              "        [-0.00694444,  0.00347222,  0.01388889, -0.00347222,  0.00347222],\n",
              "        [ 0.00694444,  0.        , -0.00694444,  0.01041667,  0.00347222],\n",
              "        [ 0.        ,  0.        , -0.00347222,  0.        , -0.00347222],\n",
              "        [-0.01736111, -0.00347222, -0.00347222,  0.00347222,  0.00694444],\n",
              "        [-0.00694444, -0.00694444,  0.        , -0.00347222,  0.        ],\n",
              "        [ 0.        ,  0.        , -0.00347222, -0.01041667,  0.00694444],\n",
              "        [-0.00347222,  0.01736111, -0.00694444, -0.00347222, -0.00347222],\n",
              "        [ 0.        ,  0.00694444, -0.00347222, -0.00694444, -0.00347222],\n",
              "        [-0.00347222,  0.00694444, -0.00347222,  0.        , -0.00347222],\n",
              "        [-0.00347222,  0.01388889,  0.        , -0.00347222, -0.01041667],\n",
              "        [ 0.00347222,  0.00694444,  0.00694444,  0.01041667,  0.        ],\n",
              "        [-0.01041667,  0.        , -0.01041667,  0.        , -0.01041667],\n",
              "        [ 0.00347222,  0.01388889,  0.00347222,  0.00694444,  0.01736111],\n",
              "        [-0.01388889, -0.00694444, -0.00347222, -0.00347222, -0.01736111],\n",
              "        [ 0.00347222,  0.        , -0.00347222, -0.00347222,  0.        ],\n",
              "        [-0.00347222, -0.00694444, -0.00694444, -0.01388889, -0.01041667]])}"
            ]
          },
          "metadata": {},
          "execution_count": 135
        }
      ]
    },
    {
      "cell_type": "code",
      "source": [
        "perm_importance.importances_mean"
      ],
      "metadata": {
        "colab": {
          "base_uri": "https://localhost:8080/"
        },
        "id": "N6owrYcJpsDf",
        "outputId": "5a28b114-745d-450d-aeae-86b711346fea"
      },
      "execution_count": null,
      "outputs": [
        {
          "output_type": "execute_result",
          "data": {
            "text/plain": [
              "array([ 8.33333333e-03, -1.38888889e-03, -5.55555556e-03,  8.33333333e-03,\n",
              "        4.16666667e-03,  4.16666667e-03,  2.77777778e-03,  4.16666667e-03,\n",
              "       -6.94444444e-04,  2.08333333e-03,  2.77777778e-03, -1.38888889e-03,\n",
              "       -2.77777778e-03, -3.47222222e-03, -1.38888889e-03,  2.22044605e-17,\n",
              "       -1.38888889e-03, -6.94444444e-04, -6.94444444e-04,  5.55555556e-03,\n",
              "       -6.25000000e-03,  9.02777778e-03, -9.02777778e-03, -6.94444444e-04,\n",
              "       -8.33333333e-03])"
            ]
          },
          "metadata": {},
          "execution_count": 136
        }
      ]
    },
    {
      "cell_type": "code",
      "source": [
        "df.columns"
      ],
      "metadata": {
        "colab": {
          "base_uri": "https://localhost:8080/"
        },
        "id": "r3SQaN88pvNS",
        "outputId": "fcf29660-59fb-4d5b-f82d-9e7e9006bbeb"
      },
      "execution_count": null,
      "outputs": [
        {
          "output_type": "execute_result",
          "data": {
            "text/plain": [
              "Index(['Age', 'Attrition', 'BusinessTravel', 'Department', 'DistanceFromHome',\n",
              "       'Education', 'EducationField', 'EmployeeID', 'Gender', 'JobLevel',\n",
              "       'JobRole', 'MaritalStatus', 'MonthlyIncome', 'NumCompaniesWorked',\n",
              "       'PercentSalaryHike', 'StockOptionLevel', 'TotalWorkingYears',\n",
              "       'TrainingTimesLastYear', 'YearsAtCompany', 'YearsSinceLastPromotion',\n",
              "       'YearsWithCurrManager', 'EnvironmentSatisfaction', 'JobSatisfaction',\n",
              "       'WorkLifeBalance', 'JobInvolvement', 'PerformanceRating'],\n",
              "      dtype='object')"
            ]
          },
          "metadata": {},
          "execution_count": 137
        }
      ]
    },
    {
      "cell_type": "code",
      "source": [
        "cols = ['Age', 'Attrition', 'BusinessTravel', 'Department', 'DistanceFromHome',\n",
        "       'Education', 'EducationField', 'EmployeeID', 'Gender', 'JobLevel',\n",
        "       'JobRole', 'MaritalStatus', 'MonthlyIncome', 'NumCompaniesWorked',\n",
        "       'PercentSalaryHike', 'StockOptionLevel', 'TotalWorkingYears',\n",
        "       'TrainingTimesLastYear', 'YearsAtCompany', 'YearsSinceLastPromotion',\n",
        "       'YearsWithCurrManager', 'EnvironmentSatisfaction', 'JobSatisfaction',\n",
        "       'WorkLifeBalance', 'JobInvolvement', 'PerformanceRating']\n",
        "    \n",
        "features = np.array(cols)\n",
        "plt.figure(figsize = (14 ,10))    \n",
        "sorted_idx = perm_importance.importances_mean.argsort()\n",
        "sns.barplot( perm_importance.importances_mean[sorted_idx] ,features[sorted_idx] )\n",
        "plt.xlabel(\"Permutation Importance\")\n",
        "\n",
        "plt.title('FEATURE IMPORTANCE')"
      ],
      "metadata": {
        "colab": {
          "base_uri": "https://localhost:8080/",
          "height": 693
        },
        "id": "NndOlqhIp2g7",
        "outputId": "d038f331-efb2-49d5-e36d-2ab213e9a845"
      },
      "execution_count": null,
      "outputs": [
        {
          "output_type": "stream",
          "name": "stderr",
          "text": [
            "/usr/local/lib/python3.7/dist-packages/seaborn/_decorators.py:43: FutureWarning: Pass the following variables as keyword args: x, y. From version 0.12, the only valid positional argument will be `data`, and passing other arguments without an explicit keyword will result in an error or misinterpretation.\n",
            "  FutureWarning\n"
          ]
        },
        {
          "output_type": "execute_result",
          "data": {
            "text/plain": [
              "Text(0.5, 1.0, 'FEATURE IMPORTANCE')"
            ]
          },
          "metadata": {},
          "execution_count": 138
        },
        {
          "output_type": "display_data",
          "data": {
            "text/plain": [
              "<Figure size 1008x720 with 1 Axes>"
            ],
            "image/png": "[encoded data removed]"
          },
          "metadata": {
            "needs_background": "light"
          }
        }
      ]
    }
  ]
}